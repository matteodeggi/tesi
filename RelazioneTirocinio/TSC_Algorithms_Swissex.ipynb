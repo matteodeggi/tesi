{
 "cells": [
  {
   "cell_type": "code",
   "execution_count": 2,
   "metadata": {},
   "outputs": [],
   "source": [
    "import numpy as np\n",
    "import pandas as pd\n",
    "from sklearn.model_selection import train_test_split\n",
    "from sklearn.metrics import accuracy_score\n",
    "from sklearn.metrics import f1_score\n",
    "from sklearn.neighbors import KNeighborsClassifier\n",
    "import matplotlib.pyplot as plt\n",
    "\n",
    "import warnings\n",
    "warnings.filterwarnings('ignore')"
   ]
  },
  {
   "cell_type": "code",
   "execution_count": 1,
   "metadata": {},
   "outputs": [
    {
     "name": "stdout",
     "output_type": "stream",
     "text": [
      "Collecting tslearn\n",
      "  Using cached https://files.pythonhosted.org/packages/f3/bb/f63c690ee0d6f3b0b3defb4208579af3ef120aa9c2543d327af9c23e93d7/tslearn-0.2.2.tar.gz\n",
      "Requirement already satisfied: numpy in c:\\users\\deggg\\anaconda3\\lib\\site-packages (from tslearn) (1.16.2)\n",
      "Requirement already satisfied: scipy in c:\\users\\deggg\\anaconda3\\lib\\site-packages (from tslearn) (1.2.1)\n",
      "Requirement already satisfied: scikit-learn in c:\\users\\deggg\\anaconda3\\lib\\site-packages (from tslearn) (0.20.3)\n",
      "Requirement already satisfied: Cython in c:\\users\\deggg\\anaconda3\\lib\\site-packages (from tslearn) (0.29.6)\n",
      "Requirement already satisfied: numba in c:\\users\\deggg\\anaconda3\\lib\\site-packages (from tslearn) (0.43.1)\n",
      "Requirement already satisfied: llvmlite>=0.28.0dev0 in c:\\users\\deggg\\anaconda3\\lib\\site-packages (from numba->tslearn) (0.28.0)\n",
      "Building wheels for collected packages: tslearn\n",
      "  Building wheel for tslearn (setup.py): started\n",
      "  Building wheel for tslearn (setup.py): finished with status 'done'\n",
      "  Stored in directory: C:\\Users\\Deggg\\AppData\\Local\\pip\\Cache\\wheels\\e5\\7f\\ba\\cf984e0e778fae5640d7f4173ec75ce460ad6bbd4eafdae458\n",
      "Successfully built tslearn\n",
      "Installing collected packages: tslearn\n",
      "Successfully installed tslearn-0.2.2\n"
     ]
    }
   ],
   "source": [
    "!pip install tslearn"
   ]
  },
  {
   "cell_type": "code",
   "execution_count": 11,
   "metadata": {},
   "outputs": [
    {
     "name": "stdout",
     "output_type": "stream",
     "text": [
      "Collecting ipynb\n",
      "  Downloading https://files.pythonhosted.org/packages/31/42/4c0bbb66390e3a68e04ebf134c8d074a00c18b5882293f8ace5f7497fbf0/ipynb-0.5.1-py3-none-any.whl\n",
      "Installing collected packages: ipynb\n",
      "Successfully installed ipynb-0.5.1\n",
      "Note: you may need to restart the kernel to use updated packages.\n"
     ]
    }
   ],
   "source": [
    "pip install ipynb"
   ]
  },
  {
   "cell_type": "code",
   "execution_count": 9,
   "metadata": {},
   "outputs": [],
   "source": [
    "from tslearn.preprocessing import TimeSeriesScalerMinMax\n",
    "from tslearn.shapelets import ShapeletModel, grabocka_params_to_shapelet_size_dict\n",
    "from tslearn.utils import to_time_series_dataset"
   ]
  },
  {
   "cell_type": "code",
   "execution_count": 14,
   "metadata": {},
   "outputs": [],
   "source": [
    "from ipynb.fs.defs.BOPF import BOPF_fit, BOPF_predict"
   ]
  },
  {
   "cell_type": "code",
   "execution_count": 15,
   "metadata": {},
   "outputs": [],
   "source": [
    "def DTWDistance(s1, s2, w = None):\n",
    "    rows = len(s1) + 1\n",
    "    cols = len(s2) + 1\n",
    "    DTW = np.zeros((rows, cols))\n",
    "    \n",
    "    if w:\n",
    "        w = max(w, abs(len(s1)-len(s2)))\n",
    "        \n",
    "        for i in range(0, rows):\n",
    "            for j in range(0, cols):\n",
    "                DTW[i, j] = float('inf')\n",
    "        \n",
    "        DTW[0, 0] = 0\n",
    "        \n",
    "        for i in range(1, rows):\n",
    "            for j in range(max(1, i-w), min(cols, i+w+1)):\n",
    "                DTW[i, j] = 0\n",
    "        \n",
    "        distance = 0\n",
    "        \n",
    "        for i in range(1, rows):\n",
    "            for j in range(max(1, i-w), min(cols, i+w+1)):\n",
    "                distance = (s1[i-1] - s2[j-1]) ** 2\n",
    "                DTW[i,j] = distance + min(DTW[i-1,j], DTW[i-1,j-1], DTW[i, j-1])\n",
    "    return DTW[len(s1), len(s2)]"
   ]
  },
  {
   "cell_type": "code",
   "execution_count": 85,
   "metadata": {},
   "outputs": [],
   "source": [
    "valori_ts = []\n",
    "classi = []\n",
    "\n",
    "path = \"\"\n",
    "\n",
    "# calcoliamo le features di ogni timeseries\n",
    "\n",
    "with open(path + 'Swissex.meta.csv', 'r', encoding='utf-8') as dati:\n",
    "    for row in dati:\n",
    "        riga = row.strip().split(',')\n",
    "        classe = int(riga[8])\n",
    "        classi.append(classe)\n",
    "        valori = np.array(riga[9:]).astype(np.float)\n",
    "        valori_ts.append(valori)"
   ]
  },
  {
   "cell_type": "code",
   "execution_count": 86,
   "metadata": {},
   "outputs": [],
   "source": [
    "X_train, X_test, y_train, y_test = train_test_split(valori_ts, classi, test_size = 0.3, random_state = 100)"
   ]
  },
  {
   "cell_type": "code",
   "execution_count": 87,
   "metadata": {},
   "outputs": [],
   "source": [
    "from sklearn.preprocessing import RobustScaler, Normalizer, MinMaxScaler, MaxAbsScaler, StandardScaler\n",
    "\n",
    "X_train_norm = Normalizer().fit_transform(X_train)\n",
    "X_test_norm = Normalizer().fit_transform(X_test)"
   ]
  },
  {
   "cell_type": "code",
   "execution_count": 18,
   "metadata": {},
   "outputs": [],
   "source": [
    "# calcola accuracy e f1 score di un classificatore\n",
    "\n",
    "def metrics(clf, X_test, y_test):\n",
    "    y_pred = clf.predict(X_test)\n",
    "    accuracy = accuracy_score(y_test, y_pred)*100\n",
    "    f1 = f1_score(y_test, y_pred, average = 'macro')*100\n",
    "    return [accuracy, f1]"
   ]
  },
  {
   "cell_type": "code",
   "execution_count": 19,
   "metadata": {},
   "outputs": [],
   "source": [
    "metrics_standard = []\n",
    "metrics_norm = []"
   ]
  },
  {
   "cell_type": "code",
   "execution_count": 22,
   "metadata": {},
   "outputs": [],
   "source": [
    "# 1NN-ED\n",
    "\n",
    "knn = KNeighborsClassifier(n_neighbors = 1, metric = 'euclidean')\n",
    "knn.fit(X_train, y_train)\n",
    "metrics_standard.append(metrics(knn, X_test, y_test))\n",
    "\n",
    "knn.fit(X_train_norm, y_train)\n",
    "metrics_norm.append(metrics(knn, X_test_norm, y_test))"
   ]
  },
  {
   "cell_type": "code",
   "execution_count": 23,
   "metadata": {},
   "outputs": [],
   "source": [
    "# 1NN-DTW (testare diversi parametri w)\n",
    "\n",
    "knn = KNeighborsClassifier(n_neighbors = 1, metric = DTWDistance, metric_params = {'w': len(valori_ts[0])})\n",
    "knn.fit(X_train, y_train)\n",
    "metrics_standard.append(metrics(knn, X_test, y_test))\n",
    "\n",
    "knn.fit(X_train_norm, y_train)\n",
    "metrics_norm.append(metrics(knn, X_test_norm, y_test))"
   ]
  },
  {
   "cell_type": "code",
   "execution_count": 88,
   "metadata": {},
   "outputs": [],
   "source": [
    "# per usare il dataset nella libreria tslearn dobbiamo convertirlo con la seguente funzione\n",
    "\n",
    "X_train_tslearn = to_time_series_dataset(X_train)\n",
    "X_test_tslearn = to_time_series_dataset(X_test)\n",
    "\n",
    "X_train_tslearn_norm = to_time_series_dataset(X_train_norm)\n",
    "X_test_tslearn_norm = to_time_series_dataset(X_test_norm)\n",
    "\n",
    "# calcolo shapelet_sizes\n",
    "\n",
    "shapelet_sizes = grabocka_params_to_shapelet_size_dict(n_ts=len(valori_ts), ts_sz=len(valori_ts[0]),\n",
    "                                                       n_classes=len(set(classi)), l=0.1, r=2)"
   ]
  },
  {
   "cell_type": "code",
   "execution_count": 89,
   "metadata": {},
   "outputs": [],
   "source": [
    "# shapelet-based classifier\n",
    "\n",
    "shp_clf = ShapeletModel(n_shapelets_per_size=shapelet_sizes, verbose_level = 0, max_iter = 5000)\n",
    "#shp_clf.fit(np.array(X_train_tslearn), np.array(y_train))\n",
    "#metrics_standard.append(metrics(shp_clf, np.array(X_test_tslearn), np.array(y_test)))\n",
    "\n",
    "shp_clf.fit(np.array(X_train_tslearn_norm), np.array(y_train))\n",
    "metrics_norm.append(metrics(shp_clf, np.array(X_test_tslearn_norm), np.array(y_test)))"
   ]
  },
  {
   "cell_type": "code",
   "execution_count": 120,
   "metadata": {},
   "outputs": [],
   "source": [
    "metrics_standard = [[55.769230769230774, 50.28156326069039],\n",
    " [74.03846153846155, 73.01337668628018],\n",
    " [13.461538461538462, 7.744107744107744],\n",
    " [37.3832, 0.0],\n",
    " [31.7307, 26.8516]]"
   ]
  },
  {
   "cell_type": "code",
   "execution_count": 121,
   "metadata": {},
   "outputs": [],
   "source": [
    "metrics_norm = [[47.11538461538461, 44.190030244291215],\n",
    " [44.230769230769226, 39.549552875768214],\n",
    " [20.192307692307693, 3.0545454545454547],\n",
    " [44.2308, 0.0],\n",
    " [29.8076, 19.8315]]"
   ]
  },
  {
   "cell_type": "code",
   "execution_count": 84,
   "metadata": {},
   "outputs": [],
   "source": [
    "dataframe = pd.read_csv('Swissex.meta.csv', header = None, sep = ',')\n",
    "dataframe = dataframe.drop(np.arange(0,8), axis=1)\n",
    "\n",
    "# split del dataset\n",
    "X_train, X_test, y_train, y_test = train_test_split(dataframe.drop(8, axis = 1), dataframe[8], test_size = 0.3, random_state = 100)\n",
    "X_train_norm = MaxAbsScaler().fit_transform(X_train)\n",
    "X_test_norm = MaxAbsScaler().fit_transform(X_test)\n",
    "\n",
    "X_train_norm = pd.DataFrame(X_train_norm, columns= [column for column in dataframe.drop(8, axis = 1)], index = [index for index, row in X_train.iterrows()])\n",
    "X_test_norm = pd.DataFrame(X_test_norm, columns= [column for column in dataframe.drop(8, axis = 1)], index = [index for index, row in X_test.iterrows()])\n",
    "\n",
    "X_train_norm.insert(0, 8, y_train)\n",
    "X_test_norm.insert(0, 8, y_test)\n",
    "\n",
    "export_csv = X_train_norm.to_csv (r'C:\\Users\\Deggg\\Desktop\\Swissex_Norm_TRAIN.txt', index = None, header=False)\n",
    "export_csv = X_test_norm.to_csv (r'C:\\Users\\Deggg\\Desktop\\Swissex_Norm_TEST.txt', index = None, header=False)"
   ]
  },
  {
   "cell_type": "code",
   "execution_count": 74,
   "metadata": {},
   "outputs": [
    {
     "data": {
      "text/html": [
       "<div>\n",
       "<style scoped>\n",
       "    .dataframe tbody tr th:only-of-type {\n",
       "        vertical-align: middle;\n",
       "    }\n",
       "\n",
       "    .dataframe tbody tr th {\n",
       "        vertical-align: top;\n",
       "    }\n",
       "\n",
       "    .dataframe thead th {\n",
       "        text-align: right;\n",
       "    }\n",
       "</style>\n",
       "<table border=\"1\" class=\"dataframe\">\n",
       "  <thead>\n",
       "    <tr style=\"text-align: right;\">\n",
       "      <th></th>\n",
       "      <th>9</th>\n",
       "      <th>10</th>\n",
       "      <th>11</th>\n",
       "      <th>12</th>\n",
       "      <th>13</th>\n",
       "      <th>14</th>\n",
       "      <th>15</th>\n",
       "      <th>16</th>\n",
       "      <th>17</th>\n",
       "      <th>18</th>\n",
       "      <th>...</th>\n",
       "      <th>445</th>\n",
       "      <th>446</th>\n",
       "      <th>447</th>\n",
       "      <th>448</th>\n",
       "      <th>449</th>\n",
       "      <th>450</th>\n",
       "      <th>451</th>\n",
       "      <th>452</th>\n",
       "      <th>453</th>\n",
       "      <th>8</th>\n",
       "    </tr>\n",
       "  </thead>\n",
       "  <tbody>\n",
       "    <tr>\n",
       "      <th>171</th>\n",
       "      <td>0.302047</td>\n",
       "      <td>0.303866</td>\n",
       "      <td>0.304252</td>\n",
       "      <td>0.343410</td>\n",
       "      <td>0.315620</td>\n",
       "      <td>0.378701</td>\n",
       "      <td>0.421470</td>\n",
       "      <td>0.357644</td>\n",
       "      <td>0.399328</td>\n",
       "      <td>0.440625</td>\n",
       "      <td>...</td>\n",
       "      <td>1.033820</td>\n",
       "      <td>1.103593</td>\n",
       "      <td>1.161908</td>\n",
       "      <td>1.127051</td>\n",
       "      <td>1.097102</td>\n",
       "      <td>1.140326</td>\n",
       "      <td>1.103232</td>\n",
       "      <td>1.121648</td>\n",
       "      <td>1.105041</td>\n",
       "      <td>4</td>\n",
       "    </tr>\n",
       "    <tr>\n",
       "      <th>254</th>\n",
       "      <td>-0.226979</td>\n",
       "      <td>-0.256549</td>\n",
       "      <td>-0.248829</td>\n",
       "      <td>-0.276801</td>\n",
       "      <td>-0.265516</td>\n",
       "      <td>-0.212011</td>\n",
       "      <td>-0.215757</td>\n",
       "      <td>-0.271386</td>\n",
       "      <td>-0.237066</td>\n",
       "      <td>-0.252245</td>\n",
       "      <td>...</td>\n",
       "      <td>-0.157253</td>\n",
       "      <td>-0.176030</td>\n",
       "      <td>-0.168993</td>\n",
       "      <td>-0.150526</td>\n",
       "      <td>-0.149091</td>\n",
       "      <td>-0.141392</td>\n",
       "      <td>-0.150985</td>\n",
       "      <td>-0.131737</td>\n",
       "      <td>-0.156735</td>\n",
       "      <td>10</td>\n",
       "    </tr>\n",
       "    <tr>\n",
       "      <th>59</th>\n",
       "      <td>-0.188227</td>\n",
       "      <td>-0.198291</td>\n",
       "      <td>-0.206632</td>\n",
       "      <td>-0.228029</td>\n",
       "      <td>-0.223398</td>\n",
       "      <td>-0.170838</td>\n",
       "      <td>-0.172622</td>\n",
       "      <td>-0.220349</td>\n",
       "      <td>-0.182199</td>\n",
       "      <td>-0.219891</td>\n",
       "      <td>...</td>\n",
       "      <td>-0.128461</td>\n",
       "      <td>-0.144529</td>\n",
       "      <td>-0.137087</td>\n",
       "      <td>-0.121536</td>\n",
       "      <td>-0.120772</td>\n",
       "      <td>-0.113899</td>\n",
       "      <td>-0.122882</td>\n",
       "      <td>-0.103998</td>\n",
       "      <td>-0.127374</td>\n",
       "      <td>7</td>\n",
       "    </tr>\n",
       "    <tr>\n",
       "      <th>104</th>\n",
       "      <td>-0.238528</td>\n",
       "      <td>-0.249586</td>\n",
       "      <td>-0.256448</td>\n",
       "      <td>-0.284112</td>\n",
       "      <td>-0.273578</td>\n",
       "      <td>-0.222765</td>\n",
       "      <td>-0.125124</td>\n",
       "      <td>-0.174840</td>\n",
       "      <td>-0.136410</td>\n",
       "      <td>-0.161761</td>\n",
       "      <td>...</td>\n",
       "      <td>-0.056861</td>\n",
       "      <td>-0.067817</td>\n",
       "      <td>-0.057660</td>\n",
       "      <td>-0.045479</td>\n",
       "      <td>-0.047873</td>\n",
       "      <td>-0.043821</td>\n",
       "      <td>-0.057520</td>\n",
       "      <td>-0.040336</td>\n",
       "      <td>-0.063707</td>\n",
       "      <td>8</td>\n",
       "    </tr>\n",
       "    <tr>\n",
       "      <th>333</th>\n",
       "      <td>-0.185236</td>\n",
       "      <td>-0.196515</td>\n",
       "      <td>-0.203326</td>\n",
       "      <td>-0.229877</td>\n",
       "      <td>-0.222343</td>\n",
       "      <td>-0.180286</td>\n",
       "      <td>-0.171058</td>\n",
       "      <td>-0.218426</td>\n",
       "      <td>-0.176014</td>\n",
       "      <td>-0.204299</td>\n",
       "      <td>...</td>\n",
       "      <td>-0.130670</td>\n",
       "      <td>-0.146487</td>\n",
       "      <td>-0.139548</td>\n",
       "      <td>-0.123979</td>\n",
       "      <td>-0.122914</td>\n",
       "      <td>-0.115857</td>\n",
       "      <td>-0.125270</td>\n",
       "      <td>-0.106701</td>\n",
       "      <td>-0.129608</td>\n",
       "      <td>7</td>\n",
       "    </tr>\n",
       "  </tbody>\n",
       "</table>\n",
       "<p>5 rows × 446 columns</p>\n",
       "</div>"
      ],
      "text/plain": [
       "          9         10        11        12        13        14        15   \\\n",
       "171  0.302047  0.303866  0.304252  0.343410  0.315620  0.378701  0.421470   \n",
       "254 -0.226979 -0.256549 -0.248829 -0.276801 -0.265516 -0.212011 -0.215757   \n",
       "59  -0.188227 -0.198291 -0.206632 -0.228029 -0.223398 -0.170838 -0.172622   \n",
       "104 -0.238528 -0.249586 -0.256448 -0.284112 -0.273578 -0.222765 -0.125124   \n",
       "333 -0.185236 -0.196515 -0.203326 -0.229877 -0.222343 -0.180286 -0.171058   \n",
       "\n",
       "          16        17        18   ...       445       446       447  \\\n",
       "171  0.357644  0.399328  0.440625  ...  1.033820  1.103593  1.161908   \n",
       "254 -0.271386 -0.237066 -0.252245  ... -0.157253 -0.176030 -0.168993   \n",
       "59  -0.220349 -0.182199 -0.219891  ... -0.128461 -0.144529 -0.137087   \n",
       "104 -0.174840 -0.136410 -0.161761  ... -0.056861 -0.067817 -0.057660   \n",
       "333 -0.218426 -0.176014 -0.204299  ... -0.130670 -0.146487 -0.139548   \n",
       "\n",
       "          448       449       450       451       452       453  8    \n",
       "171  1.127051  1.097102  1.140326  1.103232  1.121648  1.105041    4  \n",
       "254 -0.150526 -0.149091 -0.141392 -0.150985 -0.131737 -0.156735   10  \n",
       "59  -0.121536 -0.120772 -0.113899 -0.122882 -0.103998 -0.127374    7  \n",
       "104 -0.045479 -0.047873 -0.043821 -0.057520 -0.040336 -0.063707    8  \n",
       "333 -0.123979 -0.122914 -0.115857 -0.125270 -0.106701 -0.129608    7  \n",
       "\n",
       "[5 rows x 446 columns]"
      ]
     },
     "execution_count": 74,
     "metadata": {},
     "output_type": "execute_result"
    }
   ],
   "source": [
    "# bag of pattern features\n",
    "\n",
    "# leggo il dataset - per questo classificatore occorre un dataframe pandas\n",
    "\n",
    "dataframe = pd.read_csv('Swissex.meta.csv', header = None, sep = ',')\n",
    "dataframe = dataframe.drop(np.arange(0,8), axis=1)\n",
    "\n",
    "# split del dataset\n",
    "X_train, X_test, y_train, y_test = train_test_split(dataframe.drop(8, axis = 1), dataframe[8], test_size = 0.3, random_state = 100)\n",
    "X_train_norm = RobustScaler().fit_transform(X_train)\n",
    "X_test_norm = RobustScaler().fit_transform(X_test)\n",
    "\n",
    "X_train_norm = pd.DataFrame(X_train_norm, columns= [column for column in dataframe.drop(8, axis = 1)], index = [index for index, row in X_train.iterrows()])\n",
    "X_test_norm = pd.DataFrame(X_test_norm, columns= [column for column in dataframe.drop(8, axis = 1)], index = [index for index, row in X_test.iterrows()])\n",
    "X_train[8] = y_train\n",
    "X_train_norm[8] = y_train\n",
    "\n",
    "#predictors = BOPF_fit(X_train, y_train)\n",
    "#y_pred = BOPF_predict(predictors, X_test)\n",
    "#metrics_standard.append([accuracy_score(y_test, y_pred)*100, f1_score(y_test, y_pred, average = 'macro')*100])\n",
    "\n",
    "#predictors = BOPF_fit(X_train_norm, y_train)\n",
    "#y_pred_norm = BOPF_predict(predictors, X_test_norm)\n",
    "#metrics_norm.append([accuracy_score(y_test, y_pred_norm)*100, f1_score(y_test, y_pred_norm, average = 'macro')*100])"
   ]
  },
  {
   "cell_type": "code",
   "execution_count": 17,
   "metadata": {},
   "outputs": [],
   "source": [
    "metrics_standard = [[55.769230769230774, 50.28156326069039],\n",
    " [74.03846153846155, 73.01337668628018],\n",
    " [22.115384615384613, 5.081585081585082],\n",
    " [25.0, 21.284893449116325]]\n",
    "metrics_norm = [[47.11538461538461, 44.190030244291215],\n",
    " [44.230769230769226, 39.549552875768214],\n",
    " [7.6923076923076925, 1.3852813852813854],\n",
    " [9.615384615384617, 3.7754948202709393]]"
   ]
  },
  {
   "cell_type": "code",
   "execution_count": 118,
   "metadata": {},
   "outputs": [
    {
     "name": "stderr",
     "output_type": "stream",
     "text": [
      "[MLENS] backend: threading\n"
     ]
    }
   ],
   "source": [
    "from ipynb.fs.defs.BOS_Algorithms_Swissex import plot_graph"
   ]
  },
  {
   "cell_type": "code",
   "execution_count": 124,
   "metadata": {},
   "outputs": [
    {
     "data": {
      "image/png": "[encoded data removed]",
      "text/plain": [
       "<Figure size 1440x720 with 1 Axes>"
      ]
     },
     "metadata": {
      "needs_background": "light"
     },
     "output_type": "display_data"
    }
   ],
   "source": [
    "title = 'Accuracy a confronto tra standard e normalized data su Swissex'\n",
    "labels = ['1NN-ED', '1NN-DTW', 'Shapelets', 'BOPF', 'Slopes']\n",
    "plot_graph(title, 5, 0, metrics_standard, 'Standard Data', labels, 'Accuracy', metrics_norm, 'Normalized Data', 'c', '#BA3B46')"
   ]
  },
  {
   "cell_type": "code",
   "execution_count": 125,
   "metadata": {},
   "outputs": [
    {
     "data": {
      "image/png": "[encoded data removed]",
      "text/plain": [
       "<Figure size 1440x720 with 1 Axes>"
      ]
     },
     "metadata": {
      "needs_background": "light"
     },
     "output_type": "display_data"
    }
   ],
   "source": [
    "title = 'F1 Score a confronto tra standard e normalized data su Swissex'\n",
    "labels = ['1NN-ED', '1NN-DTW', 'Shapelets', 'BOPF* \\n \\n *metrica non disponibile', 'Slopes']\n",
    "plot_graph(title, 5, 1, metrics_standard, 'Standard Data', labels, 'F1 Scores', metrics_norm, 'Normalized Data', 'c', '#BA3B46')"
   ]
  },
  {
   "cell_type": "code",
   "execution_count": null,
   "metadata": {},
   "outputs": [],
   "source": []
  }
 ],
 "metadata": {
  "kernelspec": {
   "display_name": "Python 3",
   "language": "python",
   "name": "python3"
  },
  "language_info": {
   "codemirror_mode": {
    "name": "ipython",
    "version": 3
   },
   "file_extension": ".py",
   "mimetype": "text/x-python",
   "name": "python",
   "nbconvert_exporter": "python",
   "pygments_lexer": "ipython3",
   "version": "3.7.3"
  }
 },
 "nbformat": 4,
 "nbformat_minor": 2
}
