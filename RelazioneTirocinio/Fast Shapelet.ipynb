{
 "cells": [
  {
   "cell_type": "code",
   "execution_count": 4,
   "metadata": {},
   "outputs": [
    {
     "name": "stdout",
     "output_type": "stream",
     "text": [
      "Requirement already satisfied: saxpy in c:\\users\\tania\\anaconda3\\lib\\site-packages (1.0.1.dev167)\n",
      "Requirement already satisfied: numpy in c:\\users\\tania\\anaconda3\\lib\\site-packages (from saxpy) (1.16.4)\n",
      "Requirement already satisfied: codecov in c:\\users\\tania\\anaconda3\\lib\\site-packages (from saxpy) (2.0.15)\n",
      "Requirement already satisfied: pytest-cov in c:\\users\\tania\\anaconda3\\lib\\site-packages (from saxpy) (2.7.1)\n",
      "Requirement already satisfied: pytest in c:\\users\\tania\\anaconda3\\lib\\site-packages (from saxpy) (5.0.1)\n",
      "Requirement already satisfied: requests>=2.7.9 in c:\\users\\tania\\anaconda3\\lib\\site-packages (from codecov->saxpy) (2.22.0)\n",
      "Requirement already satisfied: coverage in c:\\users\\tania\\anaconda3\\lib\\site-packages (from codecov->saxpy) (4.5.4)\n",
      "Requirement already satisfied: py>=1.5.0 in c:\\users\\tania\\anaconda3\\lib\\site-packages (from pytest->saxpy) (1.8.0)\n",
      "Requirement already satisfied: packaging in c:\\users\\tania\\anaconda3\\lib\\site-packages (from pytest->saxpy) (19.0)\n",
      "Requirement already satisfied: attrs>=17.4.0 in c:\\users\\tania\\anaconda3\\lib\\site-packages (from pytest->saxpy) (19.1.0)\n",
      "Requirement already satisfied: more-itertools>=4.0.0 in c:\\users\\tania\\anaconda3\\lib\\site-packages (from pytest->saxpy) (7.0.0)\n",
      "Requirement already satisfied: atomicwrites>=1.0 in c:\\users\\tania\\anaconda3\\lib\\site-packages (from pytest->saxpy) (1.3.0)\n",
      "Requirement already satisfied: pluggy<1.0,>=0.12 in c:\\users\\tania\\anaconda3\\lib\\site-packages (from pytest->saxpy) (0.12.0)\n",
      "Requirement already satisfied: importlib-metadata>=0.12 in c:\\users\\tania\\anaconda3\\lib\\site-packages (from pytest->saxpy) (0.17)\n",
      "Requirement already satisfied: wcwidth in c:\\users\\tania\\anaconda3\\lib\\site-packages (from pytest->saxpy) (0.1.7)\n",
      "Requirement already satisfied: colorama in c:\\users\\tania\\anaconda3\\lib\\site-packages (from pytest->saxpy) (0.4.1)\n",
      "Requirement already satisfied: urllib3!=1.25.0,!=1.25.1,<1.26,>=1.21.1 in c:\\users\\tania\\anaconda3\\lib\\site-packages (from requests>=2.7.9->codecov->saxpy) (1.24.2)\n",
      "Requirement already satisfied: chardet<3.1.0,>=3.0.2 in c:\\users\\tania\\anaconda3\\lib\\site-packages (from requests>=2.7.9->codecov->saxpy) (3.0.4)\n",
      "Requirement already satisfied: idna<2.9,>=2.5 in c:\\users\\tania\\anaconda3\\lib\\site-packages (from requests>=2.7.9->codecov->saxpy) (2.8)\n",
      "Requirement already satisfied: certifi>=2017.4.17 in c:\\users\\tania\\anaconda3\\lib\\site-packages (from requests>=2.7.9->codecov->saxpy) (2019.6.16)\n",
      "Requirement already satisfied: pyparsing>=2.0.2 in c:\\users\\tania\\anaconda3\\lib\\site-packages (from packaging->pytest->saxpy) (2.4.0)\n",
      "Requirement already satisfied: six in c:\\users\\tania\\anaconda3\\lib\\site-packages (from packaging->pytest->saxpy) (1.12.0)\n",
      "Requirement already satisfied: zipp>=0.5 in c:\\users\\tania\\anaconda3\\lib\\site-packages (from importlib-metadata>=0.12->pytest->saxpy) (0.5.1)\n"
     ]
    }
   ],
   "source": [
    "!pip install saxpy\n",
    "from saxpy.sax import sax_via_window"
   ]
  },
  {
   "cell_type": "code",
   "execution_count": 5,
   "metadata": {},
   "outputs": [],
   "source": [
    "import numpy as np\n",
    "import pandas as pd\n",
    "from sklearn.model_selection import train_test_split"
   ]
  },
  {
   "cell_type": "code",
   "execution_count": 6,
   "metadata": {},
   "outputs": [],
   "source": [
    "valori_ts = []\n",
    "classi = []\n",
    "\n",
    "path = \"\"\n",
    "\n",
    "# calcoliamo le features di ogni timeseries\n",
    "\n",
    "with open(path + 'Swissex.meta.csv', 'r', encoding='utf-8') as dati:\n",
    "    for row in dati:\n",
    "        riga = row.strip().split(',')\n",
    "        classe = int(riga[8])\n",
    "        classi.append(classe)\n",
    "        valori = np.array(riga[9:]).astype(np.float)\n",
    "        valori_ts.append(valori)"
   ]
  },
  {
   "cell_type": "code",
   "execution_count": 7,
   "metadata": {},
   "outputs": [],
   "source": [
    "ts_sax = []\n",
    "for ts in valori_ts:\n",
    "    sax_words = sax_via_window(ts, 50, 5, 4)\n",
    "    ts_sax.append(sax_words.keys())"
   ]
  },
  {
   "cell_type": "code",
   "execution_count": 26,
   "metadata": {},
   "outputs": [],
   "source": [
    "words = []\n",
    "\n",
    "for obj in ts_sax:\n",
    "    for word in obj:\n",
    "        words.append((word, ts_sax.index(obj)))\n",
    "        \n",
    "table = np.zeros((len(words), len(valori_ts)))"
   ]
  },
  {
   "cell_type": "code",
   "execution_count": 21,
   "metadata": {},
   "outputs": [],
   "source": [
    "from collections import defaultdict"
   ]
  },
  {
   "cell_type": "code",
   "execution_count": 47,
   "metadata": {},
   "outputs": [],
   "source": [
    "obj_list = defaultdict(list)\n",
    "\n",
    "for i in range(0, len(words)):\n",
    "    word_id = i\n",
    "    obj_id = words[i][1]\n",
    "    obj_list[words[i][0]].append((word_id, obj_id))"
   ]
  },
  {
   "cell_type": "code",
   "execution_count": 48,
   "metadata": {},
   "outputs": [],
   "source": [
    "for word in obj_list:\n",
    "    lis = obj_list.get(word)\n",
    "    for i in range(0, len(lis)):\n",
    "        table[lis[i][0], lis[i][1]] += 1\n",
    "        for j in range(0, len(lis)):\n",
    "            if (lis[i] != lis[j]):\n",
    "                table[lis[i][0], lis[j][1]] += 1    "
   ]
  },
  {
   "cell_type": "code",
   "execution_count": 45,
   "metadata": {},
   "outputs": [
    {
     "data": {
      "text/plain": [
       "array([[1., 1., 0., ..., 0., 1., 1.],\n",
       "       [1., 1., 1., ..., 0., 1., 2.],\n",
       "       [1., 0., 0., ..., 0., 1., 1.],\n",
       "       ...,\n",
       "       [0., 1., 1., ..., 1., 1., 1.],\n",
       "       [1., 0., 0., ..., 0., 1., 1.],\n",
       "       [0., 0., 0., ..., 0., 1., 1.]])"
      ]
     },
     "execution_count": 45,
     "metadata": {},
     "output_type": "execute_result"
    }
   ],
   "source": [
    "table"
   ]
  },
  {
   "cell_type": "code",
   "execution_count": null,
   "metadata": {},
   "outputs": [],
   "source": []
  }
 ],
 "metadata": {
  "kernelspec": {
   "display_name": "Python 3",
   "language": "python",
   "name": "python3"
  },
  "language_info": {
   "codemirror_mode": {
    "name": "ipython",
    "version": 3
   },
   "file_extension": ".py",
   "mimetype": "text/x-python",
   "name": "python",
   "nbconvert_exporter": "python",
   "pygments_lexer": "ipython3",
   "version": "3.7.3"
  }
 },
 "nbformat": 4,
 "nbformat_minor": 2
}
