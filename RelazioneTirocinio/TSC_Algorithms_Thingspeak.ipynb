{
 "cells": [
  {
   "cell_type": "code",
   "execution_count": 1,
   "metadata": {},
   "outputs": [],
   "source": [
    "import numpy as np\n",
    "import pandas as pd\n",
    "from sklearn.model_selection import train_test_split\n",
    "from sklearn.metrics import accuracy_score\n",
    "from sklearn.metrics import f1_score\n",
    "from sklearn.neighbors import KNeighborsClassifier\n",
    "import matplotlib.pyplot as plt\n",
    "\n",
    "import warnings\n",
    "warnings.filterwarnings('ignore')"
   ]
  },
  {
   "cell_type": "code",
   "execution_count": 2,
   "metadata": {},
   "outputs": [
    {
     "name": "stderr",
     "output_type": "stream",
     "text": [
      "Using TensorFlow backend.\n"
     ]
    },
    {
     "name": "stdout",
     "output_type": "stream",
     "text": [
      "WARNING:tensorflow:From C:\\Users\\Deggg\\Anaconda3\\lib\\site-packages\\tslearn\\shapelets.py:20: The name tf.set_random_seed is deprecated. Please use tf.compat.v1.set_random_seed instead.\n",
      "\n"
     ]
    }
   ],
   "source": [
    "from tslearn.preprocessing import TimeSeriesScalerMinMax\n",
    "from tslearn.shapelets import ShapeletModel, grabocka_params_to_shapelet_size_dict\n",
    "from tslearn.utils import to_time_series_dataset"
   ]
  },
  {
   "cell_type": "code",
   "execution_count": 3,
   "metadata": {},
   "outputs": [],
   "source": [
    "from ipynb.fs.defs.BOPF import BOPF_fit, BOPF_predict"
   ]
  },
  {
   "cell_type": "code",
   "execution_count": 4,
   "metadata": {},
   "outputs": [],
   "source": [
    "def DTWDistance(s1, s2, w = None):\n",
    "    rows = len(s1) + 1\n",
    "    cols = len(s2) + 1\n",
    "    DTW = np.zeros((rows, cols))\n",
    "    \n",
    "    if w:\n",
    "        w = max(w, abs(len(s1)-len(s2)))\n",
    "        \n",
    "        for i in range(0, rows):\n",
    "            for j in range(0, cols):\n",
    "                DTW[i, j] = float('inf')\n",
    "        \n",
    "        DTW[0, 0] = 0\n",
    "        \n",
    "        for i in range(1, rows):\n",
    "            for j in range(max(1, i-w), min(cols, i+w+1)):\n",
    "                DTW[i, j] = 0\n",
    "        \n",
    "        distance = 0\n",
    "        \n",
    "        for i in range(1, rows):\n",
    "            for j in range(max(1, i-w), min(cols, i+w+1)):\n",
    "                distance = (s1[i-1] - s2[j-1]) ** 2\n",
    "                DTW[i,j] = distance + min(DTW[i-1,j], DTW[i-1,j-1], DTW[i, j-1])\n",
    "    return DTW[len(s1), len(s2)]"
   ]
  },
  {
   "cell_type": "code",
   "execution_count": 19,
   "metadata": {},
   "outputs": [],
   "source": [
    "valori_ts = []\n",
    "classi = []\n",
    "\n",
    "path = \"\"\n",
    "\n",
    "# calcoliamo le features di ogni timeseries\n",
    "\n",
    "with open(path + 'ThingspeakEU.meta.csv', 'r', encoding='utf-8') as dati:\n",
    "    for row in dati:\n",
    "        riga = row.strip().split(',')\n",
    "        classe = int(riga[8])\n",
    "        classi.append(classe)\n",
    "        valori = np.array(riga[9:]).astype(np.float)\n",
    "        valori_ts.append(valori)"
   ]
  },
  {
   "cell_type": "code",
   "execution_count": 20,
   "metadata": {},
   "outputs": [],
   "source": [
    "X_train, X_test, y_train, y_test = train_test_split(valori_ts, classi, test_size = 0.3, random_state = 100)"
   ]
  },
  {
   "cell_type": "code",
   "execution_count": 21,
   "metadata": {},
   "outputs": [],
   "source": [
    "from sklearn.preprocessing import RobustScaler, Normalizer, MinMaxScaler, MaxAbsScaler, StandardScaler\n",
    "\n",
    "X_train_norm = Normalizer().fit_transform(X_train)\n",
    "X_test_norm = Normalizer().fit_transform(X_test)"
   ]
  },
  {
   "cell_type": "code",
   "execution_count": 8,
   "metadata": {},
   "outputs": [],
   "source": [
    "# calcola accuracy e f1 score di un classificatore\n",
    "\n",
    "def metrics(clf, X_test, y_test):\n",
    "    y_pred = clf.predict(X_test)\n",
    "    accuracy = accuracy_score(y_test, y_pred)*100\n",
    "    f1 = f1_score(y_test, y_pred, average = 'macro')*100\n",
    "    return [accuracy, f1]"
   ]
  },
  {
   "cell_type": "code",
   "execution_count": 9,
   "metadata": {},
   "outputs": [],
   "source": [
    "metrics_standard = []\n",
    "metrics_norm = []"
   ]
  },
  {
   "cell_type": "code",
   "execution_count": 10,
   "metadata": {},
   "outputs": [],
   "source": [
    "# 1NN-ED\n",
    "\n",
    "knn = KNeighborsClassifier(n_neighbors = 1, metric = 'euclidean')\n",
    "knn.fit(X_train, y_train)\n",
    "metrics_standard.append(metrics(knn, X_test, y_test))\n",
    "\n",
    "knn.fit(X_train_norm, y_train)\n",
    "metrics_norm.append(metrics(knn, X_test_norm, y_test))"
   ]
  },
  {
   "cell_type": "code",
   "execution_count": 11,
   "metadata": {},
   "outputs": [],
   "source": [
    "# 1NN-DTW (testare diversi parametri w)\n",
    "\n",
    "knn = KNeighborsClassifier(n_neighbors = 1, metric = DTWDistance, metric_params = {'w': len(valori_ts[0])})\n",
    "knn.fit(X_train, y_train)\n",
    "metrics_standard.append(metrics(knn, X_test, y_test))\n",
    "\n",
    "knn.fit(X_train_norm, y_train)\n",
    "metrics_norm.append(metrics(knn, X_test_norm, y_test))"
   ]
  },
  {
   "cell_type": "code",
   "execution_count": 22,
   "metadata": {},
   "outputs": [],
   "source": [
    "# per usare il dataset nella libreria tslearn dobbiamo convertirlo con la seguente funzione\n",
    "\n",
    "X_train_tslearn = to_time_series_dataset(X_train)\n",
    "X_test_tslearn = to_time_series_dataset(X_test)\n",
    "\n",
    "X_train_tslearn_norm = to_time_series_dataset(X_train_norm)\n",
    "X_test_tslearn_norm = to_time_series_dataset(X_test_norm)\n",
    "\n",
    "# calcolo shapelet_sizes\n",
    "\n",
    "shapelet_sizes = grabocka_params_to_shapelet_size_dict(n_ts=len(valori_ts), ts_sz=len(valori_ts[0]),\n",
    "                                                       n_classes=len(set(classi)), l=0.1, r=2)"
   ]
  },
  {
   "cell_type": "code",
   "execution_count": 23,
   "metadata": {},
   "outputs": [],
   "source": [
    "# shapelet-based classifier\n",
    "\n",
    "shp_clf = ShapeletModel(n_shapelets_per_size=shapelet_sizes, verbose_level = 0, max_iter = 5000)\n",
    "shp_clf.fit(np.array(X_train_tslearn), np.array(y_train))\n",
    "metrics_standard.append(metrics(shp_clf, np.array(X_test_tslearn), np.array(y_test)))\n",
    "\n",
    "shp_clf.fit(np.array(X_train_tslearn_norm), np.array(y_train))\n",
    "metrics_norm.append(metrics(shp_clf, np.array(X_test_tslearn_norm), np.array(y_test)))"
   ]
  },
  {
   "cell_type": "code",
   "execution_count": 40,
   "metadata": {},
   "outputs": [
    {
     "data": {
      "text/plain": [
       "[[70.80062794348508, 46.79873701873521],\n",
       " [73.31240188383046, 51.522648655249235],\n",
       " [1.4128728414442702, 0.14665145836728044],\n",
       " [41.4443, 0.0],\n",
       " [29.6703, 10.2272]]"
      ]
     },
     "execution_count": 40,
     "metadata": {},
     "output_type": "execute_result"
    }
   ],
   "source": [
    "metrics_standard"
   ]
  },
  {
   "cell_type": "code",
   "execution_count": 41,
   "metadata": {},
   "outputs": [
    {
     "data": {
      "text/plain": [
       "[[66.56200941915228, 40.907245520334165],\n",
       " [55.88697017268446, 38.05249139559277],\n",
       " [18.367346938775512, 1.633393829401089],\n",
       " [41.6013, 0.0],\n",
       " [24.0188, 4.8623]]"
      ]
     },
     "execution_count": 41,
     "metadata": {},
     "output_type": "execute_result"
    }
   ],
   "source": [
    "metrics_norm"
   ]
  },
  {
   "cell_type": "code",
   "execution_count": 18,
   "metadata": {},
   "outputs": [],
   "source": [
    "dataframe = pd.read_csv('ThingspeakEU.meta.csv', header = None, sep = ',')\n",
    "dataframe = dataframe.drop(np.arange(0,8), axis=1)\n",
    "\n",
    "# split del dataset\n",
    "X_train, X_test, y_train, y_test = train_test_split(dataframe.drop(8, axis = 1), dataframe[8], test_size = 0.3, random_state = 100)\n",
    "X_train_norm = Normalizer().fit_transform(X_train)\n",
    "X_test_norm = Normalizer().fit_transform(X_test)\n",
    "\n",
    "X_train_norm = pd.DataFrame(X_train_norm, columns= [column for column in dataframe.drop(8, axis = 1)], index = [index for index, row in X_train.iterrows()])\n",
    "X_test_norm = pd.DataFrame(X_test_norm, columns= [column for column in dataframe.drop(8, axis = 1)], index = [index for index, row in X_test.iterrows()])\n",
    "\n",
    "X_train_norm.insert(0, 8, y_train)\n",
    "X_test_norm.insert(0, 8, y_test)\n",
    "X_train.insert(0, 8, y_train)\n",
    "X_test.insert(0, 8, y_test)\n",
    "\n",
    "export_csv = X_train_norm.to_csv (r'C:\\Users\\Deggg\\Desktop\\Thingspeak_Norm_TRAIN.txt', index = None, header=False)\n",
    "export_csv = X_test_norm.to_csv (r'C:\\Users\\Deggg\\Desktop\\Thingspeak_Norm_TEST.txt', index = None, header=False)\n",
    "export_csv = X_train.to_csv (r'C:\\Users\\Deggg\\Desktop\\Thingspeak_TRAIN.txt', index = None, header=False)\n",
    "export_csv = X_test.to_csv (r'C:\\Users\\Deggg\\Desktop\\Thingspeak_TEST.txt', index = None, header=False)"
   ]
  },
  {
   "cell_type": "code",
   "execution_count": null,
   "metadata": {},
   "outputs": [],
   "source": [
    "# bag of pattern features\n",
    "\n",
    "# leggo il dataset - per questo classificatore occorre un dataframe pandas\n",
    "\n",
    "dataframe = pd.read_csv('Swissex.meta.csv', header = None, sep = ',')\n",
    "dataframe = dataframe.drop(np.arange(0,8), axis=1)\n",
    "\n",
    "# split del dataset\n",
    "X_train, X_test, y_train, y_test = train_test_split(dataframe.drop(8, axis = 1), dataframe[8], test_size = 0.3, random_state = 100)\n",
    "X_train_norm = RobustScaler().fit_transform(X_train)\n",
    "X_test_norm = RobustScaler().fit_transform(X_test)\n",
    "\n",
    "X_train_norm = pd.DataFrame(X_train_norm, columns= [column for column in dataframe.drop(8, axis = 1)])\n",
    "X_test_norm = pd.DataFrame(X_test_norm, columns= [column for column in dataframe.drop(8, axis = 1)])\n",
    "X_train[8] = y_train\n",
    "X_train_norm[8] = y_train\n",
    "\n",
    "predictors = BOPF_fit(X_train, y_train)\n",
    "y_pred = BOPF_predict(predictors, X_test)\n",
    "metrics_standard.append([accuracy_score(y_test, y_pred)*100, f1_score(y_test, y_pred, average = 'macro')*100])\n",
    "\n",
    "predictors = BOPF_fit(X_train_norm, y_train)\n",
    "y_pred_norm = BOPF_predict(predictors, X_test_norm)\n",
    "metrics_norm.append([accuracy_score(y_test, y_pred_norm)*100, f1_score(y_test, y_pred_norm, average = 'macro')*100])"
   ]
  },
  {
   "cell_type": "code",
   "execution_count": 17,
   "metadata": {},
   "outputs": [],
   "source": [
    "metrics_standard = [[55.769230769230774, 50.28156326069039],\n",
    " [74.03846153846155, 73.01337668628018],\n",
    " [22.115384615384613, 5.081585081585082],\n",
    " [25.0, 21.284893449116325]]\n",
    "metrics_norm = [[47.11538461538461, 44.190030244291215],\n",
    " [44.230769230769226, 39.549552875768214],\n",
    " [7.6923076923076925, 1.3852813852813854],\n",
    " [9.615384615384617, 3.7754948202709393]]"
   ]
  },
  {
   "cell_type": "code",
   "execution_count": 42,
   "metadata": {},
   "outputs": [
    {
     "name": "stderr",
     "output_type": "stream",
     "text": [
      "[MLENS] backend: threading\n"
     ]
    }
   ],
   "source": [
    "from ipynb.fs.defs.BOS_Algorithms_Swissex import plot_graph"
   ]
  },
  {
   "cell_type": "code",
   "execution_count": 43,
   "metadata": {},
   "outputs": [
    {
     "data": {
      "image/png": "[encoded data removed]",
      "text/plain": [
       "<Figure size 1440x720 with 1 Axes>"
      ]
     },
     "metadata": {
      "needs_background": "light"
     },
     "output_type": "display_data"
    }
   ],
   "source": [
    "title = 'Accuracy a confronto tra standard e normalized data su Thingspeak'\n",
    "labels = ['1NN-ED', '1NN-DTW', 'Shapelets', 'BOPF', 'Slopes']\n",
    "plot_graph(title, 5, 0, metrics_standard, 'Standard Data', labels, 'Accuracy', metrics_norm, 'Normalized Data', 'c', '#BA3B46')"
   ]
  },
  {
   "cell_type": "code",
   "execution_count": 44,
   "metadata": {},
   "outputs": [
    {
     "data": {
      "image/png": "[encoded data removed]",
      "text/plain": [
       "<Figure size 1440x720 with 1 Axes>"
      ]
     },
     "metadata": {
      "needs_background": "light"
     },
     "output_type": "display_data"
    }
   ],
   "source": [
    "title = 'F1 Score a confronto tra standard e normalized data su Swissex'\n",
    "labels = ['1NN-ED', '1NN-DTW', 'Shapelets', 'BOPF* \\n \\n *metrica non disponibile', 'Slopes']\n",
    "plot_graph(title, 5, 1, metrics_standard, 'Standard Data', labels, 'F1 Scores', metrics_norm, 'Normalized Data', 'c', '#BA3B46')"
   ]
  },
  {
   "cell_type": "code",
   "execution_count": null,
   "metadata": {},
   "outputs": [],
   "source": []
  }
 ],
 "metadata": {
  "kernelspec": {
   "display_name": "Python 3",
   "language": "python",
   "name": "python3"
  },
  "language_info": {
   "codemirror_mode": {
    "name": "ipython",
    "version": 3
   },
   "file_extension": ".py",
   "mimetype": "text/x-python",
   "name": "python",
   "nbconvert_exporter": "python",
   "pygments_lexer": "ipython3",
   "version": "3.7.3"
  }
 },
 "nbformat": 4,
 "nbformat_minor": 2
}
