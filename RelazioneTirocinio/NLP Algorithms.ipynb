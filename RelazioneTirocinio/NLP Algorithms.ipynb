{
 "cells": [
  {
   "cell_type": "code",
   "execution_count": 1,
   "metadata": {},
   "outputs": [],
   "source": [
    "import numpy as np\n",
    "import pandas as pd\n",
    "from sklearn.model_selection import train_test_split\n",
    "from sklearn.metrics import accuracy_score\n",
    "from sklearn.metrics import f1_score\n",
    "from sklearn.neighbors import KNeighborsClassifier\n",
    "import matplotlib.pyplot as plt\n",
    "\n",
    "import warnings\n",
    "warnings.filterwarnings('ignore')"
   ]
  },
  {
   "cell_type": "code",
   "execution_count": null,
   "metadata": {},
   "outputs": [],
   "source": [
    "pip install nltk\n",
    "pip install Distance"
   ]
  },
  {
   "cell_type": "code",
   "execution_count": null,
   "metadata": {},
   "outputs": [],
   "source": [
    "from distance import jaccard\n",
    "from nltk.metrics.distance import edit_distance, jaro_winkler_similarity"
   ]
  },
  {
   "cell_type": "code",
   "execution_count": 31,
   "metadata": {},
   "outputs": [],
   "source": [
    "X = []\n",
    "y = []\n",
    "\n",
    "path = \"\"\n",
    "\n",
    "# calcoliamo le features di ogni timeseries\n",
    "\n",
    "with open(path + 'ThingspeakEU.meta.csv', 'r', encoding='utf-8') as dati:\n",
    "    for row in dati:\n",
    "        riga = row.strip().split(',')\n",
    "        classe = int(riga[8])\n",
    "        y.append(classe)\n",
    "        valore = riga[1]\n",
    "        X.append(valore)"
   ]
  },
  {
   "cell_type": "code",
   "execution_count": 32,
   "metadata": {},
   "outputs": [],
   "source": [
    "X_train, X_test, y_train, y_test = train_test_split(X, y, test_size = 0.3, random_state = 100)"
   ]
  },
  {
   "cell_type": "code",
   "execution_count": 85,
   "metadata": {},
   "outputs": [],
   "source": [
    "# calcolo distanza damerau-levenshtein\n",
    "\n",
    "def damerau_levenshtein_distance(s1, s2):\n",
    "    d = {}\n",
    "    lenstr1 = len(s1)\n",
    "    lenstr2 = len(s2)\n",
    "    for i in range(-1,lenstr1+1):\n",
    "        d[(i,-1)] = i+1\n",
    "    for j in range(-1,lenstr2+1):\n",
    "        d[(-1,j)] = j+1\n",
    "\n",
    "    for i in range(lenstr1):\n",
    "        for j in range(lenstr2):\n",
    "            if s1[i] == s2[j]:\n",
    "                cost = 0\n",
    "            else:\n",
    "                cost = 1\n",
    "            d[(i,j)] = min(\n",
    "                           d[(i-1,j)] + 1, # deletion\n",
    "                           d[(i,j-1)] + 1, # insertion\n",
    "                           d[(i-1,j-1)] + cost, # substitution\n",
    "                          )\n",
    "            if i and j and s1[i]==s2[j-1] and s1[i-1] == s2[j]:\n",
    "                d[(i,j)] = min (d[(i,j)], d[i-2,j-2] + cost) # transposition\n",
    "\n",
    "    return d[lenstr1-1,lenstr2-1]"
   ]
  },
  {
   "cell_type": "code",
   "execution_count": 84,
   "metadata": {},
   "outputs": [],
   "source": [
    "# semplice 1NN classifier - inverse è True se la distance_metric è una similarity metric\n",
    "\n",
    "def predict_labels(X_train, y_train, X_test, distance_metric, inverse = False):\n",
    "    y_predict = []\n",
    "\n",
    "    for i in range(len(X_test)):\n",
    "        distance = float('inf')\n",
    "        index = 0\n",
    "        for j in range(len(X_train)):\n",
    "            if (inverse):\n",
    "                temp = 1 - distance_metric(X_test[i], X_train[j])\n",
    "            else:\n",
    "                temp = distance_metric(X_test[i], X_train[j])\n",
    "            if temp < distance:\n",
    "                distance = temp\n",
    "                index = j\n",
    "        y_predict.append(y_train[index])\n",
    "    return y_predict"
   ]
  },
  {
   "cell_type": "code",
   "execution_count": 89,
   "metadata": {},
   "outputs": [],
   "source": [
    "def metrics(y_pred, y_test):\n",
    "    accuracy = accuracy_score(y_pred, y_test)*100\n",
    "    f1 = f1_score(y_pred, y_test, average = 'macro')*100\n",
    "    return [accuracy, f1]"
   ]
  },
  {
   "cell_type": "code",
   "execution_count": 90,
   "metadata": {},
   "outputs": [],
   "source": [
    "distance_metrics = []"
   ]
  },
  {
   "cell_type": "code",
   "execution_count": 91,
   "metadata": {},
   "outputs": [],
   "source": [
    "# damerau-levenshtein edit-distance\n",
    "y_pred = predict_labels(X_train, y_train, X_test, damerau_levenshtein_distance)\n",
    "distance_metrics.append(metrics(y_pred, y_test))\n",
    "\n",
    "# levenshtein edit-distance\n",
    "y_pred = predict_labels(X_train, y_train, X_test, edit_distance)\n",
    "distance_metrics.append(metrics(y_pred, y_test))\n",
    "\n",
    "# jaccard edit-distance\n",
    "y_pred = predict_labels(X_train, y_train, X_test, jaccard)\n",
    "distance_metrics.append(metrics(y_pred, y_test))\n",
    "\n",
    "# jaro-winkler distance\n",
    "y_pred = predict_labels(X_train, y_train, X_test, jaro_winkler_similarity, True)\n",
    "distance_metrics.append(metrics(y_pred, y_test))"
   ]
  },
  {
   "cell_type": "code",
   "execution_count": 97,
   "metadata": {},
   "outputs": [
    {
     "data": {
      "image/png": "[encoded data removed]",
      "text/plain": [
       "<Figure size 1440x720 with 1 Axes>"
      ]
     },
     "metadata": {
      "needs_background": "light"
     },
     "output_type": "display_data"
    }
   ],
   "source": [
    "# plottiamo le accuracy a confronto\n",
    "\n",
    "import matplotlib.pyplot as plt\n",
    "\n",
    "fig, ax = plt.subplots(figsize=(20,10))\n",
    "n_groups = 4\n",
    "index = np.arange(n_groups)\n",
    "bar_width = 0.35\n",
    "\n",
    "opacity = .7\n",
    "error_config = {'ecolor': '0.3'}\n",
    "\n",
    "accuracy = ax.bar(index, [y[0] for y in distance_metrics], bar_width, alpha=opacity, color='g', error_kw=error_config, label='Accuracy Score')\n",
    "f1 = ax.bar(index + bar_width, [y[1] for y in distance_metrics], bar_width, alpha=opacity, color='c', error_kw=error_config, label='F1 Score')\n",
    "labels = ['Damerau-Levenshtein', 'Levenshtein', 'Jaccard', 'Jaro-Winkler']\n",
    "for acc, ff in zip(accuracy, f1):\n",
    "    yval_acc = acc.get_height()\n",
    "    yval_ff = ff.get_height()\n",
    "    plt.text(acc.get_x() + 0.1, yval_acc - 10, '{:.2f}%'.format(round(yval_acc, 4)), bbox=dict(facecolor='white', alpha=0.5))\n",
    "    plt.text(ff.get_x() + 0.1, yval_ff - 10, '{:.2f}%'.format(round(yval_ff, 4)), bbox=dict(facecolor='white', alpha=0.5))\n",
    "\n",
    "ax.set_ylim(0, 100)\n",
    "ax.set_xlabel('1NN Classifier with Different Distance Measures')\n",
    "ax.set_ylabel('Accuracy & F1 scores')\n",
    "ax.set_xticks(index + bar_width / 2)\n",
    "ax.set_xticklabels((labels))\n",
    "ax.legend()\n",
    "\n",
    "plt.show()"
   ]
  },
  {
   "cell_type": "code",
   "execution_count": null,
   "metadata": {},
   "outputs": [],
   "source": []
  }
 ],
 "metadata": {
  "kernelspec": {
   "display_name": "Python 3",
   "language": "python",
   "name": "python3"
  },
  "language_info": {
   "codemirror_mode": {
    "name": "ipython",
    "version": 3
   },
   "file_extension": ".py",
   "mimetype": "text/x-python",
   "name": "python",
   "nbconvert_exporter": "python",
   "pygments_lexer": "ipython3",
   "version": "3.7.3"
  }
 },
 "nbformat": 4,
 "nbformat_minor": 2
}
