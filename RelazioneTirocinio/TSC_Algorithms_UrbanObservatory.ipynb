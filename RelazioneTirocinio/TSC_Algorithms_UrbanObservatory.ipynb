{
 "cells": [
  {
   "cell_type": "code",
   "execution_count": 1,
   "metadata": {},
   "outputs": [],
   "source": [
    "import numpy as np\n",
    "import pandas as pd\n",
    "from sklearn.model_selection import train_test_split\n",
    "from sklearn.metrics import accuracy_score\n",
    "from sklearn.metrics import f1_score\n",
    "from sklearn.neighbors import KNeighborsClassifier\n",
    "import matplotlib.pyplot as plt\n",
    "\n",
    "import warnings\n",
    "warnings.filterwarnings('ignore')"
   ]
  },
  {
   "cell_type": "code",
   "execution_count": 2,
   "metadata": {},
   "outputs": [
    {
     "name": "stderr",
     "output_type": "stream",
     "text": [
      "Using TensorFlow backend.\n"
     ]
    },
    {
     "name": "stdout",
     "output_type": "stream",
     "text": [
      "WARNING:tensorflow:From C:\\Users\\Deggg\\Anaconda3\\lib\\site-packages\\tslearn\\shapelets.py:20: The name tf.set_random_seed is deprecated. Please use tf.compat.v1.set_random_seed instead.\n",
      "\n"
     ]
    }
   ],
   "source": [
    "from tslearn.preprocessing import TimeSeriesScalerMinMax\n",
    "from tslearn.shapelets import ShapeletModel, grabocka_params_to_shapelet_size_dict\n",
    "from tslearn.utils import to_time_series_dataset"
   ]
  },
  {
   "cell_type": "code",
   "execution_count": 3,
   "metadata": {},
   "outputs": [],
   "source": [
    "from ipynb.fs.defs.BOPF import BOPF_fit, BOPF_predict"
   ]
  },
  {
   "cell_type": "code",
   "execution_count": 4,
   "metadata": {},
   "outputs": [],
   "source": [
    "def DTWDistance(s1, s2, w = None):\n",
    "    rows = len(s1) + 1\n",
    "    cols = len(s2) + 1\n",
    "    DTW = np.zeros((rows, cols))\n",
    "    \n",
    "    if w:\n",
    "        w = max(w, abs(len(s1)-len(s2)))\n",
    "        \n",
    "        for i in range(0, rows):\n",
    "            for j in range(0, cols):\n",
    "                DTW[i, j] = float('inf')\n",
    "        \n",
    "        DTW[0, 0] = 0\n",
    "        \n",
    "        for i in range(1, rows):\n",
    "            for j in range(max(1, i-w), min(cols, i+w+1)):\n",
    "                DTW[i, j] = 0\n",
    "        \n",
    "        distance = 0\n",
    "        \n",
    "        for i in range(1, rows):\n",
    "            for j in range(max(1, i-w), min(cols, i+w+1)):\n",
    "                distance = (s1[i-1] - s2[j-1]) ** 2\n",
    "                DTW[i,j] = distance + min(DTW[i-1,j], DTW[i-1,j-1], DTW[i, j-1])\n",
    "    return DTW[len(s1), len(s2)]"
   ]
  },
  {
   "cell_type": "code",
   "execution_count": 5,
   "metadata": {},
   "outputs": [],
   "source": [
    "valori_ts = []\n",
    "classi = []\n",
    "\n",
    "path = \"\"\n",
    "\n",
    "# calcoliamo le features di ogni timeseries\n",
    "\n",
    "with open(path + 'UrbanObservatory.meta.csv', 'r', encoding='utf-8') as dati:\n",
    "    for row in dati:\n",
    "        riga = row.strip().split(',')\n",
    "        classe = int(riga[8])\n",
    "        classi.append(classe)\n",
    "        valori = np.array(riga[9:]).astype(np.float)\n",
    "        valori_ts.append(valori)"
   ]
  },
  {
   "cell_type": "code",
   "execution_count": 6,
   "metadata": {},
   "outputs": [],
   "source": [
    "X_train, X_test, y_train, y_test = train_test_split(valori_ts, classi, test_size = 0.3, random_state = 100)"
   ]
  },
  {
   "cell_type": "code",
   "execution_count": 7,
   "metadata": {},
   "outputs": [],
   "source": [
    "from sklearn.preprocessing import RobustScaler\n",
    "\n",
    "X_train_norm = RobustScaler().fit_transform(X_train)\n",
    "X_test_norm = RobustScaler().fit_transform(X_test)"
   ]
  },
  {
   "cell_type": "code",
   "execution_count": 8,
   "metadata": {},
   "outputs": [],
   "source": [
    "# calcola accuracy e f1 score di un classificatore\n",
    "\n",
    "def metrics(clf, X_test, y_test):\n",
    "    y_pred = clf.predict(X_test)\n",
    "    accuracy = accuracy_score(y_test, y_pred)*100\n",
    "    f1 = f1_score(y_test, y_pred, average = 'macro')*100\n",
    "    return [accuracy, f1]"
   ]
  },
  {
   "cell_type": "code",
   "execution_count": 9,
   "metadata": {},
   "outputs": [],
   "source": [
    "metrics_standard = []\n",
    "metrics_norm = []"
   ]
  },
  {
   "cell_type": "code",
   "execution_count": 10,
   "metadata": {},
   "outputs": [],
   "source": [
    "# 1NN-ED\n",
    "\n",
    "knn = KNeighborsClassifier(n_neighbors = 1, metric = 'euclidean')\n",
    "knn.fit(X_train, y_train)\n",
    "metrics_standard.append(metrics(knn, X_test, y_test))\n",
    "\n",
    "knn.fit(X_train_norm, y_train)\n",
    "metrics_norm.append(metrics(knn, X_test_norm, y_test))"
   ]
  },
  {
   "cell_type": "code",
   "execution_count": null,
   "metadata": {},
   "outputs": [],
   "source": [
    "# 1NN-DTW (testare diversi parametri w)\n",
    "\n",
    "knn = KNeighborsClassifier(n_neighbors = 1, metric = DTWDistance, metric_params = {'w': len(valori_ts[0])})\n",
    "knn.fit(X_train, y_train)\n",
    "metrics_standard.append(metrics(knn, X_test, y_test))\n",
    "\n",
    "knn.fit(X_train_norm, y_train)\n",
    "metrics_norm.append(metrics(knn, X_test_norm, y_test))"
   ]
  },
  {
   "cell_type": "code",
   "execution_count": null,
   "metadata": {},
   "outputs": [],
   "source": [
    "# per usare il dataset nella libreria tslearn dobbiamo convertirlo con la seguente funzione\n",
    "\n",
    "X_train_tslearn = to_time_series_dataset(X_train)\n",
    "X_test_tslearn = to_time_series_dataset(X_test)\n",
    "\n",
    "X_train_tslearn_norm = to_time_series_dataset(X_train_norm)\n",
    "X_test_tslearn_norm = to_time_series_dataset(X_test_norm)\n",
    "\n",
    "# calcolo shapelet_sizes\n",
    "\n",
    "shapelet_sizes = grabocka_params_to_shapelet_size_dict(n_ts=len(valori_ts), ts_sz=len(valori_ts[0]),\n",
    "                                                       n_classes=len(set(classi)), l=0.1, r=2)"
   ]
  },
  {
   "cell_type": "code",
   "execution_count": null,
   "metadata": {},
   "outputs": [],
   "source": [
    "# shapelet-based classifier\n",
    "\n",
    "shp_clf = ShapeletModel(n_shapelets_per_size=shapelet_sizes, verbose_level = 0, max_iter = 5000)\n",
    "shp_clf.fit(np.array(X_train_tslearn), np.array(y_train))\n",
    "metrics_standard.append(metrics(shp_clf, np.array(X_test_tslearn), np.array(y_test)))\n",
    "\n",
    "shp_clf.fit(np.array(X_train_tslearn_norm), np.array(y_train))\n",
    "metrics_norm.append(metrics(shp_clf, np.array(X_test_tslearn_norm), np.array(y_test)))"
   ]
  },
  {
   "cell_type": "code",
   "execution_count": null,
   "metadata": {},
   "outputs": [],
   "source": [
    "metrics_standard.append([74.6875, 0.0])"
   ]
  },
  {
   "cell_type": "code",
   "execution_count": null,
   "metadata": {},
   "outputs": [],
   "source": [
    "metrics_norm.append([75.3125, 0.0])"
   ]
  },
  {
   "cell_type": "code",
   "execution_count": null,
   "metadata": {},
   "outputs": [],
   "source": [
    "# bag of pattern features\n",
    "\n",
    "# leggo il dataset - per questo classificatore occorre un dataframe pandas\n",
    "\n",
    "dataframe = pd.read_csv('Swissex.meta.csv', header = None, sep = ',')\n",
    "dataframe = dataframe.drop(np.arange(0,8), axis=1)\n",
    "\n",
    "# split del dataset\n",
    "X_train, X_test, y_train, y_test = train_test_split(dataframe.drop(8, axis = 1), dataframe[8], test_size = 0.3, random_state = 100)\n",
    "X_train_norm = RobustScaler().fit_transform(X_train)\n",
    "X_test_norm = RobustScaler().fit_transform(X_test)\n",
    "\n",
    "X_train_norm = pd.DataFrame(X_train_norm, columns= [column for column in dataframe.drop(8, axis = 1)])\n",
    "X_test_norm = pd.DataFrame(X_test_norm, columns= [column for column in dataframe.drop(8, axis = 1)])\n",
    "X_train[8] = y_train\n",
    "X_train_norm[8] = y_train\n",
    "\n",
    "predictors = BOPF_fit(X_train, y_train)\n",
    "y_pred = BOPF_predict(predictors, X_test)\n",
    "metrics_standard.append([accuracy_score(y_test, y_pred)*100, f1_score(y_test, y_pred, average = 'macro')*100])\n",
    "\n",
    "predictors = BOPF_fit(X_train_norm, y_train)\n",
    "y_pred_norm = BOPF_predict(predictors, X_test_norm)\n",
    "metrics_norm.append([accuracy_score(y_test, y_pred_norm)*100, f1_score(y_test, y_pred_norm, average = 'macro')*100])"
   ]
  },
  {
   "cell_type": "code",
   "execution_count": 17,
   "metadata": {},
   "outputs": [],
   "source": [
    "metrics_standard = [[55.769230769230774, 50.28156326069039],\n",
    " [74.03846153846155, 73.01337668628018],\n",
    " [22.115384615384613, 5.081585081585082],\n",
    " [25.0, 21.284893449116325]]\n",
    "metrics_norm = [[47.11538461538461, 44.190030244291215],\n",
    " [44.230769230769226, 39.549552875768214],\n",
    " [7.6923076923076925, 1.3852813852813854],\n",
    " [9.615384615384617, 3.7754948202709393]]"
   ]
  },
  {
   "cell_type": "code",
   "execution_count": 18,
   "metadata": {},
   "outputs": [
    {
     "data": {
      "image/png": "[encoded data removed]",
      "text/plain": [
       "<Figure size 1440x720 with 1 Axes>"
      ]
     },
     "metadata": {
      "needs_background": "light"
     },
     "output_type": "display_data"
    }
   ],
   "source": [
    "# plottiamo le accuracy a confronto\n",
    "\n",
    "import matplotlib.pyplot as plt\n",
    "\n",
    "fig, ax = plt.subplots(figsize=(20,10))\n",
    "n_groups = 4\n",
    "index = np.arange(n_groups)\n",
    "bar_width = 0.35\n",
    "\n",
    "opacity = .7\n",
    "error_config = {'ecolor': '0.3'}\n",
    "\n",
    "standard_clf = ax.bar(index, [y[0] for y in metrics_standard], bar_width, alpha=opacity, color='g', error_kw=error_config, label='Non-normalized data')\n",
    "normalized_clf = ax.bar(index + bar_width, [y[0] for y in metrics_norm], bar_width, alpha=opacity, color='c', error_kw=error_config, label='Normalized data')\n",
    "labels = ['1NN-ED', '1NN-DTW', 'Shapelets', 'BOPF']\n",
    "\n",
    "ax.set_xlabel('Classifiers')\n",
    "ax.set_ylabel('Accuracy scores')\n",
    "ax.set_xticks(index + bar_width / 2)\n",
    "ax.set_xticklabels((labels))\n",
    "ax.legend()\n",
    "\n",
    "plt.show()\n"
   ]
  },
  {
   "cell_type": "code",
   "execution_count": null,
   "metadata": {},
   "outputs": [],
   "source": []
  },
  {
   "cell_type": "code",
   "execution_count": null,
   "metadata": {},
   "outputs": [],
   "source": []
  },
  {
   "cell_type": "code",
   "execution_count": null,
   "metadata": {},
   "outputs": [],
   "source": []
  },
  {
   "cell_type": "code",
   "execution_count": null,
   "metadata": {},
   "outputs": [],
   "source": []
  },
  {
   "cell_type": "code",
   "execution_count": null,
   "metadata": {},
   "outputs": [],
   "source": []
  },
  {
   "cell_type": "code",
   "execution_count": 21,
   "metadata": {},
   "outputs": [],
   "source": [
    "from shapelets_lts.classification import LtsShapeletClassifier"
   ]
  },
  {
   "cell_type": "code",
   "execution_count": 22,
   "metadata": {},
   "outputs": [],
   "source": [
    "classifier = LtsShapeletClassifier(\n",
    "    K=20,\n",
    "    R=3,\n",
    "    L_min=30,\n",
    "    epocs=50,\n",
    "    lamda=0.01,\n",
    "    eta=0.01,\n",
    "    shapelet_initialization='segments_centroids'\n",
    ")"
   ]
  },
  {
   "cell_type": "code",
   "execution_count": 25,
   "metadata": {},
   "outputs": [
    {
     "name": "stdout",
     "output_type": "stream",
     "text": [
      "Network initialization ...\n",
      "Using training data to initialize shaplets\n",
      "Training ...\n",
      "epoch=1/50 (iteration=242) loss=nan validation accuracy=0.045454545454545456\n",
      "epoch=2/50 (iteration=484) loss=nan validation accuracy=0.045454545454545456\n",
      "epoch=3/50 (iteration=726) loss=nan validation accuracy=0.045454545454545456\n",
      "epoch=4/50 (iteration=968) loss=nan validation accuracy=0.045454545454545456\n",
      "epoch=5/50 (iteration=1210) loss=nan validation accuracy=0.045454545454545456\n",
      "epoch=6/50 (iteration=1452) loss=nan validation accuracy=0.045454545454545456\n",
      "epoch=7/50 (iteration=1694) loss=nan validation accuracy=0.045454545454545456\n",
      "epoch=8/50 (iteration=1936) loss=nan validation accuracy=0.045454545454545456\n",
      "epoch=9/50 (iteration=2178) loss=nan validation accuracy=0.045454545454545456\n",
      "epoch=10/50 (iteration=2420) loss=nan validation accuracy=0.045454545454545456\n",
      "epoch=11/50 (iteration=2662) loss=nan validation accuracy=0.045454545454545456\n",
      "epoch=12/50 (iteration=2904) loss=nan validation accuracy=0.045454545454545456\n",
      "epoch=13/50 (iteration=3146) loss=nan validation accuracy=0.045454545454545456\n",
      "epoch=14/50 (iteration=3388) loss=nan validation accuracy=0.045454545454545456\n",
      "epoch=15/50 (iteration=3630) loss=nan validation accuracy=0.045454545454545456\n",
      "epoch=16/50 (iteration=3872) loss=nan validation accuracy=0.045454545454545456\n",
      "epoch=17/50 (iteration=4114) loss=nan validation accuracy=0.045454545454545456\n",
      "epoch=18/50 (iteration=4356) loss=nan validation accuracy=0.045454545454545456\n",
      "epoch=19/50 (iteration=4598) loss=nan validation accuracy=0.045454545454545456\n",
      "epoch=20/50 (iteration=4840) loss=nan validation accuracy=0.045454545454545456\n",
      "epoch=21/50 (iteration=5082) loss=nan validation accuracy=0.045454545454545456\n",
      "epoch=22/50 (iteration=5324) loss=nan validation accuracy=0.045454545454545456\n",
      "epoch=23/50 (iteration=5566) loss=nan validation accuracy=0.045454545454545456\n",
      "epoch=24/50 (iteration=5808) loss=nan validation accuracy=0.045454545454545456\n",
      "epoch=25/50 (iteration=6050) loss=nan validation accuracy=0.045454545454545456\n",
      "epoch=26/50 (iteration=6292) loss=nan validation accuracy=0.045454545454545456\n",
      "epoch=27/50 (iteration=6534) loss=nan validation accuracy=0.045454545454545456\n",
      "epoch=28/50 (iteration=6776) loss=nan validation accuracy=0.045454545454545456\n",
      "epoch=29/50 (iteration=7018) loss=nan validation accuracy=0.045454545454545456\n",
      "epoch=30/50 (iteration=7260) loss=nan validation accuracy=0.045454545454545456\n",
      "epoch=31/50 (iteration=7502) loss=nan validation accuracy=0.045454545454545456\n",
      "epoch=32/50 (iteration=7744) loss=nan validation accuracy=0.045454545454545456\n",
      "epoch=33/50 (iteration=7986) loss=nan validation accuracy=0.045454545454545456\n",
      "epoch=34/50 (iteration=8228) loss=nan validation accuracy=0.045454545454545456\n",
      "epoch=35/50 (iteration=8470) loss=nan validation accuracy=0.045454545454545456\n",
      "epoch=36/50 (iteration=8712) loss=nan validation accuracy=0.045454545454545456\n",
      "epoch=37/50 (iteration=8954) loss=nan validation accuracy=0.045454545454545456\n",
      "epoch=38/50 (iteration=9196) loss=nan validation accuracy=0.045454545454545456\n",
      "epoch=39/50 (iteration=9438) loss=nan validation accuracy=0.045454545454545456\n",
      "epoch=40/50 (iteration=9680) loss=nan validation accuracy=0.045454545454545456\n",
      "epoch=41/50 (iteration=9922) loss=nan validation accuracy=0.045454545454545456\n",
      "epoch=42/50 (iteration=10164) loss=nan validation accuracy=0.045454545454545456\n",
      "epoch=43/50 (iteration=10406) loss=nan validation accuracy=0.045454545454545456\n",
      "epoch=44/50 (iteration=10648) loss=nan validation accuracy=0.045454545454545456\n",
      "epoch=45/50 (iteration=10890) loss=nan validation accuracy=0.045454545454545456\n",
      "epoch=46/50 (iteration=11132) loss=nan validation accuracy=0.045454545454545456\n",
      "epoch=47/50 (iteration=11374) loss=nan validation accuracy=0.045454545454545456\n",
      "epoch=48/50 (iteration=11616) loss=nan validation accuracy=0.045454545454545456\n",
      "epoch=49/50 (iteration=11858) loss=nan validation accuracy=0.045454545454545456\n",
      "epoch=50/50 (iteration=12100) loss=nan validation accuracy=0.045454545454545456\n"
     ]
    },
    {
     "data": {
      "text/plain": [
       "LtsShapeletClassifier(K=20, L_min=30, R=3, alpha=-100, epocs=50, eta=0.01,\n",
       "                      lamda=0.01, plot_loss=False,\n",
       "                      shapelet_initialization='segments_centroids')"
      ]
     },
     "execution_count": 25,
     "metadata": {},
     "output_type": "execute_result"
    }
   ],
   "source": [
    "classifier.fit(np.array(X_train_norm), np.array(y_train))"
   ]
  },
  {
   "cell_type": "code",
   "execution_count": 27,
   "metadata": {},
   "outputs": [],
   "source": [
    "y_pred = classifier.predict(np.array(X_test))"
   ]
  },
  {
   "cell_type": "code",
   "execution_count": 28,
   "metadata": {},
   "outputs": [
    {
     "data": {
      "text/plain": [
       "4.807692307692308"
      ]
     },
     "execution_count": 28,
     "metadata": {},
     "output_type": "execute_result"
    }
   ],
   "source": [
    "accuracy = accuracy_score(y_test, y_pred)*100\n",
    "accuracy"
   ]
  },
  {
   "cell_type": "code",
   "execution_count": null,
   "metadata": {},
   "outputs": [],
   "source": []
  }
 ],
 "metadata": {
  "kernelspec": {
   "display_name": "Python 3",
   "language": "python",
   "name": "python3"
  },
  "language_info": {
   "codemirror_mode": {
    "name": "ipython",
    "version": 3
   },
   "file_extension": ".py",
   "mimetype": "text/x-python",
   "name": "python",
   "nbconvert_exporter": "python",
   "pygments_lexer": "ipython3",
   "version": "3.7.3"
  }
 },
 "nbformat": 4,
 "nbformat_minor": 2
}
