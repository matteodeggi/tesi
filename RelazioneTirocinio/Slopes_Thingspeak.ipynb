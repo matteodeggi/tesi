{
 "cells": [
  {
   "cell_type": "code",
   "execution_count": 1,
   "metadata": {},
   "outputs": [],
   "source": [
    "import numpy as np\n",
    "import pandas as pd\n",
    "import math as math\n",
    "import sys"
   ]
  },
  {
   "cell_type": "code",
   "execution_count": 2,
   "metadata": {},
   "outputs": [],
   "source": [
    "from scipy.spatial import ConvexHull, convex_hull_plot_2d"
   ]
  },
  {
   "cell_type": "code",
   "execution_count": 3,
   "metadata": {},
   "outputs": [],
   "source": [
    "def minBoundingRect(hull_points_2d):\n",
    "    #print \"Input convex hull points: \"\n",
    "    #print hull_points_2d\n",
    "\n",
    "    # Compute edges (x2-x1,y2-y1)\n",
    "    edges = np.zeros( (len(hull_points_2d)-1,2) ) # empty 2 column array\n",
    "    for i in range( len(edges) ):\n",
    "        edge_x = hull_points_2d[i+1,0] - hull_points_2d[i,0]\n",
    "        edge_y = hull_points_2d[i+1,1] - hull_points_2d[i,1]\n",
    "        edges[i] = [edge_x,edge_y]\n",
    "    #print \"Edges: \\n\", edges\n",
    "\n",
    "    # Calculate edge angles   atan2(y/x)\n",
    "    edge_angles = np.zeros( (len(edges)) ) # empty 1 column array\n",
    "    for i in range( len(edge_angles) ):\n",
    "        edge_angles[i] = math.atan2( edges[i,1], edges[i,0] )\n",
    "    #print \"Edge angles: \\n\", edge_angles\n",
    "\n",
    "    # Check for angles in 1st quadrant\n",
    "    for i in range( len(edge_angles) ):\n",
    "        edge_angles[i] = abs( edge_angles[i] % (math.pi/2) ) # want strictly positive answers\n",
    "    #print \"Edge angles in 1st Quadrant: \\n\", edge_angles\n",
    "\n",
    "    # Remove duplicate angles\n",
    "    edge_angles = np.unique(edge_angles)\n",
    "    #print \"Unique edge angles: \\n\", edge_angles\n",
    "\n",
    "    # Test each angle to find bounding box with smallest area\n",
    "    min_bbox = (0, sys.maxsize, 0, 0, 0, 0, 0, 0) # rot_angle, area, width, height, min_x, max_x, min_y, max_y\n",
    "   \n",
    "    for i in range( len(edge_angles) ):\n",
    "\n",
    "        # Create rotation matrix to shift points to baseline\n",
    "        # R = [ cos(theta)      , cos(theta-PI/2)\n",
    "        #       cos(theta+PI/2) , cos(theta)     ]\n",
    "        R = np.array([ [ math.cos(edge_angles[i]), math.cos(edge_angles[i]-(math.pi/2)) ], [ math.cos(edge_angles[i]+(math.pi/2)), math.cos(edge_angles[i]) ] ])\n",
    "        #print \"Rotation matrix for \", edge_angles[i], \" is \\n\", R\n",
    "\n",
    "        # Apply this rotation to convex hull points\n",
    "        rot_points = np.dot(R, np.transpose(hull_points_2d) ) # 2x2 * 2xn\n",
    "        #print \"Rotated hull points are \\n\", rot_points\n",
    "\n",
    "        # Find min/max x,y points\n",
    "        min_x = np.nanmin(rot_points[0], axis=0)\n",
    "        max_x = np.nanmax(rot_points[0], axis=0)\n",
    "        min_y = np.nanmin(rot_points[1], axis=0)\n",
    "        max_y = np.nanmax(rot_points[1], axis=0)\n",
    "        #print \"Min x:\", min_x, \" Max x: \", max_x, \"   Min y:\", min_y, \" Max y: \", max_y\n",
    "\n",
    "        # Calculate height/width/area of this bounding rectangle\n",
    "        width = max_x - min_x\n",
    "        height = max_y - min_y\n",
    "        area = width*height\n",
    "        #print(\"Potential bounding box \", i, \":  width: \", width, \" height: \", height, \"  area: \", area)\n",
    "\n",
    "        # Store the smallest rect found first (a simple convex hull might have 2 answers with same area)\n",
    "        if (area < min_bbox[1]):\n",
    "            min_bbox = ( edge_angles[i], area, width, height, min_x, max_x, min_y, max_y )\n",
    "        # Bypass, return the last found rect\n",
    "        #min_bbox = ( edge_angles[i], area, width, height, min_x, max_x, min_y, max_y )\n",
    "\n",
    "    # Re-create rotation matrix for smallest rect\n",
    "    angle = min_bbox[0]   \n",
    "    R = np.array([ [ math.cos(angle), math.cos(angle-(math.pi/2)) ], [ math.cos(angle+(math.pi/2)), math.cos(angle) ] ])\n",
    "    #print \"Projection matrix: \\n\", R\n",
    "\n",
    "    # Project convex hull points onto rotated frame\n",
    "    proj_points = np.dot(R, np.transpose(hull_points_2d) ) # 2x2 * 2xn\n",
    "    #print \"Project hull points are \\n\", proj_points\n",
    "\n",
    "    # min/max x,y points are against baseline\n",
    "    min_x = min_bbox[4]\n",
    "    max_x = min_bbox[5]\n",
    "    min_y = min_bbox[6]\n",
    "    max_y = min_bbox[7]\n",
    "    #print \"Min x:\", min_x, \" Max x: \", max_x, \"   Min y:\", min_y, \" Max y: \", max_y\n",
    "\n",
    "    # Calculate center point and project onto rotated frame\n",
    "    center_x = (min_x + max_x)/2\n",
    "    center_y = (min_y + max_y)/2\n",
    "    center_point = np.dot( [ center_x, center_y ], R )\n",
    "    #print \"Bounding box center point: \\n\", center_point\n",
    "\n",
    "    # Calculate corner points and project onto rotated frame\n",
    "    corner_points = np.zeros( (4,2) ) # empty 2 column array\n",
    "    corner_points[0] = np.dot( [ max_x, min_y ], R )\n",
    "    corner_points[1] = np.dot( [ min_x, min_y ], R )\n",
    "    corner_points[2] = np.dot( [ min_x, max_y ], R )\n",
    "    corner_points[3] = np.dot( [ max_x, max_y ], R )\n",
    "    #print \"Bounding box corner points: \\n\", corner_points\n",
    "\n",
    "    #print \"Angle of rotation: \", angle, \"rad  \", angle * (180/math.pi), \"deg\"\n",
    "\n",
    "    return (angle, min_bbox[1], min_bbox[2], min_bbox[3], center_point, corner_points) # rot_angle, area, width, height, center_point, corner_points\n",
    "\n"
   ]
  },
  {
   "cell_type": "code",
   "execution_count": 4,
   "metadata": {},
   "outputs": [],
   "source": [
    "bucket_size = 10\n",
    "valori_ts = []\n",
    "classi = []\n",
    "\n",
    "path = \"\"\n",
    "\n",
    "# importiamo il dataset\n",
    "\n",
    "with open(path + 'ThingspeakEU.meta.csv', 'r', encoding='utf-8') as dati:\n",
    "    for row in dati:\n",
    "        riga = row.strip().split(',')\n",
    "        classe = int(riga[8])\n",
    "        classi.append(classe)\n",
    "        valori = np.array(riga[9:]).astype(np.float)\n",
    "        valori_ts.append(valori)"
   ]
  },
  {
   "cell_type": "code",
   "execution_count": 110,
   "metadata": {},
   "outputs": [],
   "source": [
    "from sklearn.preprocessing import RobustScaler, MinMaxScaler, MaxAbsScaler, Normalizer, StandardScaler\n",
    "\n",
    "X = Normalizer().fit_transform(valori_ts)\n",
    "X = MinMaxScaler(feature_range=(0, 96)).fit_transform(valori_ts)"
   ]
  },
  {
   "cell_type": "code",
   "execution_count": 6,
   "metadata": {},
   "outputs": [],
   "source": [
    "# aggiunge bucket ad S\n",
    "def buckets(S, ts, bucket_size, index):\n",
    "    # num of points, beg, end, l, r\n",
    "    S.append([1, index, index, ts[index], ts[index]])\n",
    "    if (len(S) > bucket_size):\n",
    "        # indice del bucket che unito al successivo produce minore errore\n",
    "        i = findMin(S, ts)\n",
    "        b = union(S[i], S[i+1], ts)\n",
    "        successor = S[i+1]\n",
    "        S.remove(S[i])\n",
    "        S.remove(successor)\n",
    "        S.insert(i, b)\n",
    "    return S"
   ]
  },
  {
   "cell_type": "code",
   "execution_count": 7,
   "metadata": {},
   "outputs": [],
   "source": [
    "# calcola il massimo errore all'interno del bucket\n",
    "def compute_error(b, ts):\n",
    "    if (b[0] == 1 or b[0] == 2):\n",
    "        return 0\n",
    "    else:\n",
    "        maxErr = 0\n",
    "        for i in range(b[1], b[2]+1):\n",
    "            # valore approssimato = intercept + index*slope\n",
    "            v = b[6] + i*b[5]\n",
    "            err = abs(ts[i]-v)\n",
    "            \n",
    "            if (err > maxErr):\n",
    "                maxErr = err\n",
    "    \n",
    "    return maxErr"
   ]
  },
  {
   "cell_type": "code",
   "execution_count": 8,
   "metadata": {},
   "outputs": [],
   "source": [
    "# trova indice del bucket che unito al successivo produce minore errore\n",
    "def findMin(S, ts):\n",
    "    minErr = float('Inf')\n",
    "    index = None\n",
    "    for i in range(len(S)-1):\n",
    "        err = compute_error(S[i], ts)\n",
    "        union_error = compute_error(union(S[i], S[i+1], ts), ts)\n",
    "        \n",
    "        if (union_error - err < minErr or union_error - err == 0):\n",
    "            minErr = union_error - err\n",
    "            index = i\n",
    "    \n",
    "    return index"
   ]
  },
  {
   "cell_type": "code",
   "execution_count": 9,
   "metadata": {},
   "outputs": [],
   "source": [
    "# unisce due bucket\n",
    "def union(b1, b2, ts):\n",
    "    beg = b1[1]\n",
    "    end = b2[2]\n",
    "\n",
    "    # ciascun bucket ha un punto solo\n",
    "    if (b1[0] == 1 and b2[0] == 1):\n",
    "        l = b1[3]\n",
    "        r = b2[3]\n",
    "        if (l == r):\n",
    "            i = l\n",
    "            s = 0\n",
    "        else:\n",
    "            s = slope([b1[1], b1[3]], [b2[1], b2[3]])\n",
    "            i = intercept([b1[1], b1[3]], [b2[1], b2[3]])\n",
    "        return [2, beg, end, l, r, s, i]\n",
    "    \n",
    "    else:\n",
    "        points = []\n",
    "        \n",
    "        # raggruppiamo tutti i punti dei due bucket\n",
    "        for i in range(b1[1], b1[2]+1):\n",
    "            points.append([i, ts[i]])\n",
    "        for j in range(b2[1], b2[2]+1):\n",
    "            points.append([j, ts[j]])\n",
    "        \n",
    "        # controlliamo che i punti non siano orizzontali\n",
    "        unique = 0\n",
    "        for point in points:\n",
    "            if (abs(points[0][1] - point[1]) > 3.1e-13):\n",
    "                unique = unique + 1\n",
    "        if (unique == 0):\n",
    "            l = b1[3]\n",
    "            r = b2[3]\n",
    "            s = 0\n",
    "            return [len(points), beg, end, l, r, s, l]\n",
    "        \n",
    "        # controlliamo che i punti non si trovino sulla stessa retta\n",
    "        slope_check = slope(points[0], points[1])\n",
    "        for k in range(2, len(points)):\n",
    "            s = slope(points[0], points[k])\n",
    "            if (abs(s - slope_check) > 3.1e-13):\n",
    "                break\n",
    "            if (k == len(points)-1):\n",
    "                l = b1[3]\n",
    "                r = b2[4]\n",
    "                i = intercept(points[0], points[1])\n",
    "                return [len(points), beg, end, l, r, s, i]\n",
    "        \n",
    "        # calcoliamo convex hull\n",
    "        h = ConvexHull(points)\n",
    "\n",
    "        hull_vertices = []\n",
    "\n",
    "        for vertice in h.vertices:\n",
    "            hull_vertices.append(points[vertice])\n",
    "\n",
    "        bbox = minBoundingRect(np.array(hull_vertices))\n",
    "        \n",
    "        # punti medi dei vertici del box\n",
    "        vertices = bbox[5]\n",
    "        m1 = [(vertices[0][0] + vertices[1][0])/2, (vertices[0][1] + vertices[1][1])/2]\n",
    "        m2 = [(vertices[2][0] + vertices[3][0])/2, (vertices[2][1] + vertices[3][1])/2]\n",
    "        m3 = [(vertices[0][0] + vertices[3][0])/2, (vertices[0][1] + vertices[3][1])/2]\n",
    "        m4 = [(vertices[1][0] + vertices[2][0])/2, (vertices[1][1] + vertices[2][1])/2]\n",
    "        \n",
    "        # prendiamo il lato più piccolo del box \n",
    "        if (distance(m3, m4) > distance(m1, m2)):\n",
    "            m1 = m3\n",
    "            m2 = m4\n",
    "            \n",
    "        #plt.plot([point[0] for point in vertices], [point[1] for point in vertices])\n",
    "        #plt.plot([point[0] for point in points], [point[1] for point in points])\n",
    "        #plt.plot(m1[0], m1[1], 'ro')\n",
    "        #plt.plot(m2[0], m2[1], 'ro')\n",
    "        #plt.show()\n",
    "        \n",
    "        # la bisettrice del box ha pendenza uguale alla retta che passa dai punti medi dei lati del box\n",
    "        s = slope(m1, m2)\n",
    "        i = intercept(m1, m2)\n",
    "        l = s*beg + i\n",
    "        r = s*end + i\n",
    "\n",
    "        return [len(points), beg, end, l, r, s, i]"
   ]
  },
  {
   "cell_type": "code",
   "execution_count": 10,
   "metadata": {},
   "outputs": [],
   "source": [
    "# calcolo pendenza/coefficiente angolare tra due punti\n",
    "def slope(p1, p2):\n",
    "    slope = (p2[1]-p1[1])/(p2[0]-p1[0])\n",
    "    return slope"
   ]
  },
  {
   "cell_type": "code",
   "execution_count": 11,
   "metadata": {},
   "outputs": [],
   "source": [
    "# calcolo intercetta della retta tra due punti\n",
    "def intercept(p1, p2):\n",
    "    intercept = (p1[0]*p2[1] - p2[0]*p1[1])/(p1[0]-p2[0])\n",
    "    return intercept"
   ]
  },
  {
   "cell_type": "code",
   "execution_count": 12,
   "metadata": {},
   "outputs": [],
   "source": [
    "# distanza tra due punti\n",
    "def distance(p1, p2):\n",
    "    d = math.sqrt((p2[0]-p1[0])**2 + (p2[1] - p2[1])**2)\n",
    "    return d"
   ]
  },
  {
   "cell_type": "code",
   "execution_count": 13,
   "metadata": {},
   "outputs": [],
   "source": [
    "# trasformiamo le pendenze in gradi e li assegniamo ad un carattere\n",
    "def symbolization(S):\n",
    "    \n",
    "    d = {'a' : 0, 'b' : 0, 'c' : 0, 'd' : 0}\n",
    "    angles = []\n",
    "    for b in S:\n",
    "        if (b[0] != 1):\n",
    "            ang = math.degrees(math.atan(b[5]))\n",
    "            if (ang < 90 and ang >= 45):\n",
    "                d['a'] = d['a'] + 1\n",
    "            elif (ang < 45 and ang >= 0):\n",
    "                d['b'] = d['b'] + 1\n",
    "            elif (ang < 0 and ang >= -45):\n",
    "                d['c'] = d['c'] + 1\n",
    "            elif (ang < -45):\n",
    "                d['d'] = d['d'] + 1\n",
    "    \n",
    "    return d"
   ]
  },
  {
   "cell_type": "code",
   "execution_count": 111,
   "metadata": {},
   "outputs": [],
   "source": [
    "slopes = []\n",
    "\n",
    "for ts in X:\n",
    "    S = []\n",
    "    for i in range(len(ts)):\n",
    "        S = buckets(S, ts, bucket_size, i)\n",
    "    slopes.append(S)"
   ]
  },
  {
   "cell_type": "code",
   "execution_count": 112,
   "metadata": {},
   "outputs": [],
   "source": [
    "ds = []\n",
    "\n",
    "for S in slopes:\n",
    "    ds.append(symbolization(S))"
   ]
  },
  {
   "cell_type": "code",
   "execution_count": 113,
   "metadata": {},
   "outputs": [],
   "source": [
    "from sklearn.model_selection import train_test_split\n",
    "from sklearn.metrics import accuracy_score\n",
    "from sklearn.metrics import f1_score\n",
    "from sklearn.neighbors import KNeighborsClassifier"
   ]
  },
  {
   "cell_type": "code",
   "execution_count": 114,
   "metadata": {},
   "outputs": [],
   "source": [
    "def metrics(y_pred, y_test):\n",
    "    accuracy = accuracy_score(y_pred, y_test)*100\n",
    "    f1 = f1_score(y_pred, y_test, average = 'macro')*100\n",
    "    return [accuracy, f1]"
   ]
  },
  {
   "cell_type": "code",
   "execution_count": 115,
   "metadata": {},
   "outputs": [],
   "source": [
    "# creiamo il dataframe\n",
    "data = pd.DataFrame(ds)\n",
    "X_train, X_test, y_train, y_test = train_test_split(data, classi, test_size = 0.3, random_state = 100)"
   ]
  },
  {
   "cell_type": "code",
   "execution_count": 156,
   "metadata": {},
   "outputs": [
    {
     "name": "stderr",
     "output_type": "stream",
     "text": [
      "C:\\Users\\Deggg\\Anaconda3\\lib\\site-packages\\sklearn\\metrics\\classification.py:1145: UndefinedMetricWarning: F-score is ill-defined and being set to 0.0 in labels with no true samples.\n",
      "  'recall', 'true', average, warn_for)\n"
     ]
    },
    {
     "data": {
      "text/plain": [
       "0.054878465391964795"
      ]
     },
     "execution_count": 156,
     "metadata": {},
     "output_type": "execute_result"
    }
   ],
   "source": [
    "knn = KNeighborsClassifier(n_neighbors = 3)\n",
    "knn.fit(X_train, y_train)\n",
    "y_pred = knn.predict(X_test)\n",
    "accuracy_score(y_pred, y_test)\n",
    "f1_score(y_pred, y_test, average='macro')"
   ]
  },
  {
   "cell_type": "code",
   "execution_count": null,
   "metadata": {},
   "outputs": [],
   "source": [
    "# Standard Thingspeak k=26 [0.296703, 0.102272]\n",
    "# Normalizer Thingspeak k=24 [0.194662, 0.045880]\n",
    "# MinMax Thingspeak k=14 [0.240188, 0.048623]"
   ]
  }
 ],
 "metadata": {
  "kernelspec": {
   "display_name": "Python 3",
   "language": "python",
   "name": "python3"
  },
  "language_info": {
   "codemirror_mode": {
    "name": "ipython",
    "version": 3
   },
   "file_extension": ".py",
   "mimetype": "text/x-python",
   "name": "python",
   "nbconvert_exporter": "python",
   "pygments_lexer": "ipython3",
   "version": "3.7.3"
  }
 },
 "nbformat": 4,
 "nbformat_minor": 2
}
