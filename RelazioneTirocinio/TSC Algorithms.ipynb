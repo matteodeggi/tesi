{
 "cells": [
  {
   "cell_type": "code",
   "execution_count": 44,
   "metadata": {},
   "outputs": [],
   "source": [
    "import numpy as np\n",
    "import pandas as pd\n",
    "from sklearn.model_selection import train_test_split\n",
    "from sklearn.metrics import accuracy_score\n",
    "from sklearn.metrics import f1_score\n",
    "from sklearn.neighbors import KNeighborsClassifier\n",
    "import matplotlib.pyplot as plt\n",
    "\n",
    "import warnings\n",
    "warnings.filterwarnings('ignore')"
   ]
  },
  {
   "cell_type": "code",
   "execution_count": 45,
   "metadata": {},
   "outputs": [],
   "source": [
    "def DTWDistance(s1, s2, w = None):\n",
    "    rows = len(s1) + 1\n",
    "    cols = len(s2) + 1\n",
    "    DTW = np.zeros((rows, cols))\n",
    "    \n",
    "    if w:\n",
    "        w = max(w, abs(len(s1)-len(s2)))\n",
    "        \n",
    "        for i in range(0, rows):\n",
    "            for j in range(0, cols):\n",
    "                DTW[i, j] = float('inf')\n",
    "        \n",
    "        DTW[0, 0] = 0\n",
    "        \n",
    "        for i in range(1, rows):\n",
    "            for j in range(max(1, i-w), min(cols, i+w+1)):\n",
    "                DTW[i, j] = 0\n",
    "        \n",
    "        distance = 0\n",
    "        \n",
    "        for i in range(1, rows):\n",
    "            for j in range(max(1, i-w), min(cols, i+w+1)):\n",
    "                distance = (s1[i-1] - s2[j-1]) ** 2\n",
    "                DTW[i,j] = distance + min(DTW[i-1,j], DTW[i-1,j-1], DTW[i, j-1])\n",
    "    return DTW[len(s1), len(s2)]"
   ]
  },
  {
   "cell_type": "code",
   "execution_count": 46,
   "metadata": {},
   "outputs": [],
   "source": [
    "valori_ts = []\n",
    "classi = []\n",
    "\n",
    "path = \"\"\n",
    "\n",
    "# calcoliamo le features di ogni timeseries\n",
    "\n",
    "with open(path + 'Swissex.meta.csv', 'r', encoding='utf-8') as dati:\n",
    "    for row in dati:\n",
    "        riga = row.strip().split(',')\n",
    "        classe = int(riga[8])\n",
    "        classi.append(classe)\n",
    "        valori = np.array(riga[9:]).astype(np.float)\n",
    "        valori_ts.append(valori)"
   ]
  },
  {
   "cell_type": "code",
   "execution_count": 47,
   "metadata": {},
   "outputs": [],
   "source": [
    "X_train, X_test, y_train, y_test = train_test_split(valori_ts, classi, test_size = 0.3, random_state = 100)"
   ]
  },
  {
   "cell_type": "code",
   "execution_count": 48,
   "metadata": {},
   "outputs": [],
   "source": [
    "from sklearn.preprocessing import RobustScaler\n",
    "\n",
    "X_train = RobustScaler().fit_transform(X_train)\n",
    "X_test = RobustScaler().fit_transform(X_test)"
   ]
  },
  {
   "cell_type": "code",
   "execution_count": 42,
   "metadata": {},
   "outputs": [
    {
     "name": "stdout",
     "output_type": "stream",
     "text": [
      "47.11538461538461\n"
     ]
    }
   ],
   "source": [
    "# 1NN-ED\n",
    "\n",
    "knn = KNeighborsClassifier(n_neighbors = 1, metric = 'euclidean')\n",
    "knn.fit(X_train, y_train)\n",
    "y_pred = knn.predict(X_test)\n",
    "accuracy = accuracy_score(y_pred, y_test)*100\n",
    "print(accuracy)"
   ]
  },
  {
   "cell_type": "code",
   "execution_count": 43,
   "metadata": {},
   "outputs": [
    {
     "name": "stdout",
     "output_type": "stream",
     "text": [
      "50.96153846153846\n"
     ]
    }
   ],
   "source": [
    "# 1NN-DTW (testare diversi parametri w)\n",
    "\n",
    "knn = KNeighborsClassifier(n_neighbors = 1, metric = DTWDistance, metric_params = {'w': 3})\n",
    "knn.fit(X_train, y_train)\n",
    "y_pred = knn.predict(X_test)\n",
    "accuracy = accuracy_score(y_pred, y_test)*100\n",
    "print(accuracy)"
   ]
  },
  {
   "cell_type": "code",
   "execution_count": 49,
   "metadata": {},
   "outputs": [
    {
     "name": "stdout",
     "output_type": "stream",
     "text": [
      "Requirement already satisfied: tslearn in c:\\users\\tania\\anaconda3\\lib\\site-packages (0.1.29)\n",
      "Requirement already satisfied: numpy in c:\\users\\tania\\anaconda3\\lib\\site-packages (from tslearn) (1.16.4)\n",
      "Requirement already satisfied: scikit-learn in c:\\users\\tania\\anaconda3\\lib\\site-packages (from tslearn) (0.21.2)\n",
      "Requirement already satisfied: Cython in c:\\users\\tania\\anaconda3\\lib\\site-packages (from tslearn) (0.29.12)\n",
      "Requirement already satisfied: scipy in c:\\users\\tania\\anaconda3\\lib\\site-packages (from tslearn) (1.2.1)\n",
      "Requirement already satisfied: joblib>=0.11 in c:\\users\\tania\\anaconda3\\lib\\site-packages (from scikit-learn->tslearn) (0.13.2)\n",
      "Note: you may need to restart the kernel to use updated packages.\n"
     ]
    }
   ],
   "source": [
    "pip install tslearn"
   ]
  },
  {
   "cell_type": "code",
   "execution_count": 50,
   "metadata": {},
   "outputs": [
    {
     "name": "stdout",
     "output_type": "stream",
     "text": [
      "Requirement already satisfied: keras in c:\\users\\tania\\anaconda3\\lib\\site-packages (2.2.4)\n",
      "Requirement already satisfied: keras-preprocessing>=1.0.5 in c:\\users\\tania\\anaconda3\\lib\\site-packages (from keras) (1.1.0)\n",
      "Requirement already satisfied: scipy>=0.14 in c:\\users\\tania\\anaconda3\\lib\\site-packages (from keras) (1.2.1)\n",
      "Requirement already satisfied: keras-applications>=1.0.6 in c:\\users\\tania\\anaconda3\\lib\\site-packages (from keras) (1.0.8)\n",
      "Requirement already satisfied: h5py in c:\\users\\tania\\anaconda3\\lib\\site-packages (from keras) (2.9.0)\n",
      "Requirement already satisfied: numpy>=1.9.1 in c:\\users\\tania\\anaconda3\\lib\\site-packages (from keras) (1.16.4)\n",
      "Requirement already satisfied: pyyaml in c:\\users\\tania\\anaconda3\\lib\\site-packages (from keras) (5.1.1)\n",
      "Requirement already satisfied: six>=1.9.0 in c:\\users\\tania\\anaconda3\\lib\\site-packages (from keras) (1.12.0)\n",
      "Note: you may need to restart the kernel to use updated packages.\n"
     ]
    }
   ],
   "source": [
    "pip install keras"
   ]
  },
  {
   "cell_type": "code",
   "execution_count": 51,
   "metadata": {},
   "outputs": [
    {
     "name": "stdout",
     "output_type": "stream",
     "text": [
      "Requirement already satisfied: tensorflow in c:\\users\\tania\\anaconda3\\lib\\site-packages (1.14.0)\n",
      "Requirement already satisfied: tensorflow-estimator<1.15.0rc0,>=1.14.0rc0 in c:\\users\\tania\\anaconda3\\lib\\site-packages (from tensorflow) (1.14.0)\n",
      "Requirement already satisfied: numpy<2.0,>=1.14.5 in c:\\users\\tania\\anaconda3\\lib\\site-packages (from tensorflow) (1.16.4)\n",
      "Requirement already satisfied: termcolor>=1.1.0 in c:\\users\\tania\\anaconda3\\lib\\site-packages (from tensorflow) (1.1.0)\n",
      "Requirement already satisfied: grpcio>=1.8.6 in c:\\users\\tania\\anaconda3\\lib\\site-packages (from tensorflow) (1.22.0)\n",
      "Requirement already satisfied: wrapt>=1.11.1 in c:\\users\\tania\\anaconda3\\lib\\site-packages (from tensorflow) (1.11.2)\n",
      "Requirement already satisfied: absl-py>=0.7.0 in c:\\users\\tania\\anaconda3\\lib\\site-packages (from tensorflow) (0.7.1)\n",
      "Requirement already satisfied: astor>=0.6.0 in c:\\users\\tania\\anaconda3\\lib\\site-packages (from tensorflow) (0.8.0)\n",
      "Requirement already satisfied: wheel>=0.26 in c:\\users\\tania\\anaconda3\\lib\\site-packages (from tensorflow) (0.33.4)\n",
      "Requirement already satisfied: keras-applications>=1.0.6 in c:\\users\\tania\\anaconda3\\lib\\site-packages (from tensorflow) (1.0.8)\n",
      "Requirement already satisfied: gast>=0.2.0 in c:\\users\\tania\\anaconda3\\lib\\site-packages (from tensorflow) (0.2.2)\n",
      "Requirement already satisfied: six>=1.10.0 in c:\\users\\tania\\anaconda3\\lib\\site-packages (from tensorflow) (1.12.0)\n",
      "Requirement already satisfied: tensorboard<1.15.0,>=1.14.0 in c:\\users\\tania\\anaconda3\\lib\\site-packages (from tensorflow) (1.14.0)\n",
      "Requirement already satisfied: protobuf>=3.6.1 in c:\\users\\tania\\anaconda3\\lib\\site-packages (from tensorflow) (3.9.0)\n",
      "Requirement already satisfied: google-pasta>=0.1.6 in c:\\users\\tania\\anaconda3\\lib\\site-packages (from tensorflow) (0.1.7)\n",
      "Requirement already satisfied: keras-preprocessing>=1.0.5 in c:\\users\\tania\\anaconda3\\lib\\site-packages (from tensorflow) (1.1.0)\n",
      "Requirement already satisfied: h5py in c:\\users\\tania\\anaconda3\\lib\\site-packages (from keras-applications>=1.0.6->tensorflow) (2.9.0)\n",
      "Requirement already satisfied: markdown>=2.6.8 in c:\\users\\tania\\anaconda3\\lib\\site-packages (from tensorboard<1.15.0,>=1.14.0->tensorflow) (3.1.1)\n",
      "Requirement already satisfied: setuptools>=41.0.0 in c:\\users\\tania\\anaconda3\\lib\\site-packages (from tensorboard<1.15.0,>=1.14.0->tensorflow) (41.0.1)\n",
      "Requirement already satisfied: werkzeug>=0.11.15 in c:\\users\\tania\\anaconda3\\lib\\site-packages (from tensorboard<1.15.0,>=1.14.0->tensorflow) (0.15.4)\n",
      "Note: you may need to restart the kernel to use updated packages.\n"
     ]
    }
   ],
   "source": [
    "pip install tensorflow"
   ]
  },
  {
   "cell_type": "code",
   "execution_count": 52,
   "metadata": {},
   "outputs": [
    {
     "name": "stderr",
     "output_type": "stream",
     "text": [
      "Using TensorFlow backend.\n",
      "WARNING: Logging before flag parsing goes to stderr.\n",
      "W0806 15:25:17.821139  8812 deprecation_wrapper.py:119] From C:\\Users\\Tania\\Anaconda3\\lib\\site-packages\\tslearn\\shapelets.py:17: The name tf.set_random_seed is deprecated. Please use tf.compat.v1.set_random_seed instead.\n",
      "\n"
     ]
    }
   ],
   "source": [
    "from tslearn.preprocessing import TimeSeriesScalerMinMax\n",
    "from tslearn.shapelets import ShapeletModel, grabocka_params_to_shapelet_size_dict\n",
    "from tslearn.utils import to_time_series_dataset"
   ]
  },
  {
   "cell_type": "code",
   "execution_count": 53,
   "metadata": {},
   "outputs": [],
   "source": [
    "X_train = to_time_series_dataset(X_train)\n",
    "X_test = to_time_series_dataset(X_test)\n",
    "\n",
    "shapelet_sizes = grabocka_params_to_shapelet_size_dict(n_ts=len(valori_ts), ts_sz=len(valori_ts[0]),\n",
    "                                                       n_classes=len(set(y_train)), l=0.1, r=2)"
   ]
  },
  {
   "cell_type": "code",
   "execution_count": 54,
   "metadata": {},
   "outputs": [],
   "source": [
    "shp_clf = ShapeletModel(n_shapelets_per_size=shapelet_sizes, verbose_level = 0)"
   ]
  },
  {
   "cell_type": "code",
   "execution_count": 59,
   "metadata": {},
   "outputs": [],
   "source": [
    "shp_clf.fit(np.array(X_train), np.array(y_train))\n",
    "y_pred = shp_clf.predict(np.array(X_test))"
   ]
  },
  {
   "cell_type": "code",
   "execution_count": 60,
   "metadata": {},
   "outputs": [
    {
     "data": {
      "text/plain": [
       "20.192307692307693"
      ]
     },
     "execution_count": 60,
     "metadata": {},
     "output_type": "execute_result"
    }
   ],
   "source": [
    "accuracy = accuracy_score(y_pred, y_test)*100\n",
    "accuracy"
   ]
  },
  {
   "cell_type": "code",
   "execution_count": 29,
   "metadata": {},
   "outputs": [
    {
     "name": "stdout",
     "output_type": "stream",
     "text": [
      "C:\\Users\\Tania\\Python Notebooks\\shaplets-python-master\n"
     ]
    }
   ],
   "source": [
    "cd shaplets-python-master"
   ]
  },
  {
   "cell_type": "code",
   "execution_count": 30,
   "metadata": {},
   "outputs": [
    {
     "name": "stdout",
     "output_type": "stream",
     "text": [
      "Processing c:\\users\\tania\\python notebooks\\shaplets-python-master\n",
      "Requirement already satisfied: numpy<2.0.0,>=1.15.4 in c:\\users\\tania\\anaconda3\\lib\\site-packages (from shapelets-lts==0.3.0) (1.16.4)\n",
      "Requirement already satisfied: pandas<2.0.0,<2.0.0scipy>=1.2.0,>=0.23.4 in c:\\users\\tania\\anaconda3\\lib\\site-packages (from shapelets-lts==0.3.0) (0.24.2)\n",
      "Requirement already satisfied: scikit-learn<2.0.0,>=0.20.2 in c:\\users\\tania\\anaconda3\\lib\\site-packages (from shapelets-lts==0.3.0) (0.21.2)\n",
      "Requirement already satisfied: matplotlib<3.0.0,>=2.2.3 in c:\\users\\tania\\anaconda3\\lib\\site-packages (from shapelets-lts==0.3.0) (2.2.4)\n",
      "Requirement already satisfied: seaborn<2.0.0,>=0.9.0 in c:\\users\\tania\\anaconda3\\lib\\site-packages (from shapelets-lts==0.3.0) (0.9.0)\n",
      "Requirement already satisfied: pytz>=2011k in c:\\users\\tania\\anaconda3\\lib\\site-packages (from pandas<2.0.0,<2.0.0scipy>=1.2.0,>=0.23.4->shapelets-lts==0.3.0) (2019.1)\n",
      "Requirement already satisfied: python-dateutil>=2.5.0 in c:\\users\\tania\\anaconda3\\lib\\site-packages (from pandas<2.0.0,<2.0.0scipy>=1.2.0,>=0.23.4->shapelets-lts==0.3.0) (2.8.0)\n",
      "Requirement already satisfied: joblib>=0.11 in c:\\users\\tania\\anaconda3\\lib\\site-packages (from scikit-learn<2.0.0,>=0.20.2->shapelets-lts==0.3.0) (0.13.2)\n",
      "Requirement already satisfied: scipy>=0.17.0 in c:\\users\\tania\\anaconda3\\lib\\site-packages (from scikit-learn<2.0.0,>=0.20.2->shapelets-lts==0.3.0) (1.2.1)\n",
      "Requirement already satisfied: six>=1.10 in c:\\users\\tania\\anaconda3\\lib\\site-packages (from matplotlib<3.0.0,>=2.2.3->shapelets-lts==0.3.0) (1.12.0)\n",
      "Requirement already satisfied: pyparsing!=2.0.4,!=2.1.2,!=2.1.6,>=2.0.1 in c:\\users\\tania\\anaconda3\\lib\\site-packages (from matplotlib<3.0.0,>=2.2.3->shapelets-lts==0.3.0) (2.4.0)\n",
      "Requirement already satisfied: kiwisolver>=1.0.1 in c:\\users\\tania\\anaconda3\\lib\\site-packages (from matplotlib<3.0.0,>=2.2.3->shapelets-lts==0.3.0) (1.1.0)\n",
      "Requirement already satisfied: cycler>=0.10 in c:\\users\\tania\\anaconda3\\lib\\site-packages (from matplotlib<3.0.0,>=2.2.3->shapelets-lts==0.3.0) (0.10.0)\n",
      "Requirement already satisfied: setuptools in c:\\users\\tania\\anaconda3\\lib\\site-packages (from kiwisolver>=1.0.1->matplotlib<3.0.0,>=2.2.3->shapelets-lts==0.3.0) (41.0.1)\n",
      "Building wheels for collected packages: shapelets-lts\n",
      "  Building wheel for shapelets-lts (setup.py): started\n",
      "  Building wheel for shapelets-lts (setup.py): finished with status 'done'\n",
      "  Stored in directory: C:\\Users\\Tania\\AppData\\Local\\pip\\Cache\\wheels\\14\\cd\\05\\91e6aafbb67f3315b12b44e5a64b79a08ce4e9b0f17ccf3911\n",
      "Successfully built shapelets-lts\n",
      "Installing collected packages: shapelets-lts\n",
      "  Found existing installation: shapelets-lts 0.3.0\n",
      "    Uninstalling shapelets-lts-0.3.0:\n",
      "      Successfully uninstalled shapelets-lts-0.3.0\n",
      "Successfully installed shapelets-lts-0.3.0\n",
      "Note: you may need to restart the kernel to use updated packages.\n"
     ]
    }
   ],
   "source": [
    "pip install ."
   ]
  },
  {
   "cell_type": "code",
   "execution_count": 31,
   "metadata": {},
   "outputs": [],
   "source": [
    "from shapelets_lts.classification import LtsShapeletClassifier"
   ]
  },
  {
   "cell_type": "code",
   "execution_count": 32,
   "metadata": {},
   "outputs": [],
   "source": [
    "classifier = LtsShapeletClassifier(\n",
    "    K=20,\n",
    "    R=3,\n",
    "    L_min=30,\n",
    "    epocs=50,\n",
    "    lamda=0.01,\n",
    "    eta=0.01,\n",
    "    shapelet_initialization='segments_centroids',\n",
    "    plot_loss=True\n",
    ")"
   ]
  },
  {
   "cell_type": "code",
   "execution_count": 36,
   "metadata": {},
   "outputs": [
    {
     "name": "stdout",
     "output_type": "stream",
     "text": [
      "Network initialization ...\n",
      "Using training data to initialize shaplets\n",
      "Training ...\n",
      "Using training data for validation\n",
      "epoch=1/50 (iteration=242) loss=3.2597392131494325 validation accuracy=0.23553719008264462\n"
     ]
    },
    {
     "data": {
      "image/png": "[encoded data removed]",
      "text/plain": [
       "<Figure size 720x720 with 2 Axes>"
      ]
     },
     "metadata": {
      "needs_background": "light"
     },
     "output_type": "display_data"
    },
    {
     "name": "stdout",
     "output_type": "stream",
     "text": [
      "epoch=2/50 (iteration=484) loss=3.3258183290818435 validation accuracy=0.23553719008264462\n",
      "epoch=3/50 (iteration=726) loss=3.3338477024602184 validation accuracy=0.3140495867768595\n",
      "epoch=4/50 (iteration=968) loss=3.327766570065497 validation accuracy=0.3140495867768595\n",
      "epoch=5/50 (iteration=1210) loss=3.3252729348789796 validation accuracy=0.3140495867768595\n",
      "epoch=6/50 (iteration=1452) loss=3.3251217276041776 validation accuracy=0.3140495867768595\n",
      "epoch=7/50 (iteration=1694) loss=3.3259044781411817 validation accuracy=0.3140495867768595\n",
      "epoch=8/50 (iteration=1936) loss=3.3269403823268 validation accuracy=0.3140495867768595\n",
      "epoch=9/50 (iteration=2178) loss=3.3279065875298457 validation accuracy=0.3140495867768595\n",
      "epoch=10/50 (iteration=2420) loss=3.3286476323947536 validation accuracy=0.3140495867768595\n",
      "epoch=11/50 (iteration=2662) loss=3.329092220809924 validation accuracy=0.3140495867768595\n",
      "epoch=12/50 (iteration=2904) loss=3.329214392475678 validation accuracy=0.3181818181818182\n",
      "epoch=13/50 (iteration=3146) loss=3.3290135618756027 validation accuracy=0.3181818181818182\n",
      "epoch=14/50 (iteration=3388) loss=3.328503125208186 validation accuracy=0.32231404958677684\n",
      "epoch=15/50 (iteration=3630) loss=3.327703290962321 validation accuracy=0.32231404958677684\n",
      "epoch=16/50 (iteration=3872) loss=3.326636216842073 validation accuracy=0.32231404958677684\n",
      "epoch=17/50 (iteration=4114) loss=3.3253225526300687 validation accuracy=0.32231404958677684\n",
      "epoch=18/50 (iteration=4356) loss=3.323778921781104 validation accuracy=0.32231404958677684\n",
      "epoch=19/50 (iteration=4598) loss=3.3220160659531954 validation accuracy=0.32231404958677684\n",
      "epoch=20/50 (iteration=4840) loss=3.3200374759886317 validation accuracy=0.32231404958677684\n",
      "epoch=21/50 (iteration=5082) loss=3.317838413084253 validation accuracy=0.32231404958677684\n",
      "epoch=22/50 (iteration=5324) loss=3.3154053305256057 validation accuracy=0.32231404958677684\n",
      "epoch=23/50 (iteration=5566) loss=3.3127158785839175 validation accuracy=0.32231404958677684\n",
      "epoch=24/50 (iteration=5808) loss=3.3097399497101327 validation accuracy=0.32231404958677684\n",
      "epoch=25/50 (iteration=6050) loss=3.306442611000844 validation accuracy=0.32644628099173556\n",
      "epoch=26/50 (iteration=6292) loss=3.3027901945339657 validation accuracy=0.32644628099173556\n",
      "epoch=27/50 (iteration=6534) loss=3.2987609535229456 validation accuracy=0.32644628099173556\n",
      "epoch=28/50 (iteration=6776) loss=3.2943608281975285 validation accuracy=0.3305785123966942\n",
      "epoch=29/50 (iteration=7018) loss=3.2896420516132396 validation accuracy=0.33884297520661155\n",
      "epoch=30/50 (iteration=7260) loss=3.2847174986621415 validation accuracy=0.33884297520661155\n",
      "epoch=31/50 (iteration=7502) loss=3.2797596920314933 validation accuracy=0.34297520661157027\n",
      "epoch=32/50 (iteration=7744) loss=3.274976098623121 validation accuracy=0.35537190082644626\n",
      "epoch=33/50 (iteration=7986) loss=3.2705647256622155 validation accuracy=0.359504132231405\n",
      "epoch=34/50 (iteration=8228) loss=3.2666683422522294 validation accuracy=0.36363636363636365\n",
      "epoch=35/50 (iteration=8470) loss=3.2633482013431836 validation accuracy=0.371900826446281\n",
      "epoch=36/50 (iteration=8712) loss=3.2605857157519464 validation accuracy=0.371900826446281\n",
      "epoch=37/50 (iteration=8954) loss=3.2583049075467607 validation accuracy=0.371900826446281\n",
      "epoch=38/50 (iteration=9196) loss=3.2564015914609867 validation accuracy=0.371900826446281\n",
      "epoch=39/50 (iteration=9438) loss=3.2547681176087706 validation accuracy=0.371900826446281\n",
      "epoch=40/50 (iteration=9680) loss=3.253309001809961 validation accuracy=0.3760330578512397\n",
      "epoch=41/50 (iteration=9922) loss=3.251947849394903 validation accuracy=0.38016528925619836\n",
      "epoch=42/50 (iteration=10164) loss=3.250628213234556 validation accuracy=0.38016528925619836\n",
      "epoch=43/50 (iteration=10406) loss=3.249311188508801 validation accuracy=0.38016528925619836\n",
      "epoch=44/50 (iteration=10648) loss=3.2479718050793047 validation accuracy=0.384297520661157\n",
      "epoch=45/50 (iteration=10890) loss=3.2465954154394674 validation accuracy=0.384297520661157\n",
      "epoch=46/50 (iteration=11132) loss=3.2451746212909125 validation accuracy=0.384297520661157\n",
      "epoch=47/50 (iteration=11374) loss=3.2437068866447327 validation accuracy=0.384297520661157\n",
      "epoch=48/50 (iteration=11616) loss=3.2421927904391556 validation accuracy=0.3925619834710744\n",
      "epoch=49/50 (iteration=11858) loss=3.240634799663206 validation accuracy=0.40082644628099173\n",
      "epoch=50/50 (iteration=12100) loss=3.239036435149414 validation accuracy=0.4049586776859504\n"
     ]
    },
    {
     "data": {
      "text/plain": [
       "LtsShapeletClassifier(K=20, L_min=30, R=3, alpha=-100, epocs=50, eta=0.01,\n",
       "                      lamda=0.01, plot_loss=True,\n",
       "                      shapelet_initialization='segments_centroids')"
      ]
     },
     "execution_count": 36,
     "metadata": {},
     "output_type": "execute_result"
    },
    {
     "data": {
      "text/plain": [
       "<Figure size 432x288 with 0 Axes>"
      ]
     },
     "metadata": {},
     "output_type": "display_data"
    }
   ],
   "source": [
    "classifier.fit(np.array(X_train), np.array(y_train))"
   ]
  },
  {
   "cell_type": "code",
   "execution_count": 42,
   "metadata": {},
   "outputs": [],
   "source": [
    "y_pred = classifier.predict(X_test)"
   ]
  },
  {
   "cell_type": "code",
   "execution_count": 44,
   "metadata": {},
   "outputs": [
    {
     "data": {
      "text/plain": [
       "11.538461538461538"
      ]
     },
     "execution_count": 44,
     "metadata": {},
     "output_type": "execute_result"
    }
   ],
   "source": [
    "accuracy = accuracy_score(y_pred, y_test)*100\n",
    "accuracy"
   ]
  },
  {
   "cell_type": "code",
   "execution_count": null,
   "metadata": {},
   "outputs": [],
   "source": []
  }
 ],
 "metadata": {
  "kernelspec": {
   "display_name": "Python 3",
   "language": "python",
   "name": "python3"
  },
  "language_info": {
   "codemirror_mode": {
    "name": "ipython",
    "version": 3
   },
   "file_extension": ".py",
   "mimetype": "text/x-python",
   "name": "python",
   "nbconvert_exporter": "python",
   "pygments_lexer": "ipython3",
   "version": "3.7.3"
  }
 },
 "nbformat": 4,
 "nbformat_minor": 2
}
