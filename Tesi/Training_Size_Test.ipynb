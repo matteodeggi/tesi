{
 "cells": [
  {
   "cell_type": "code",
   "execution_count": 1,
   "metadata": {},
   "outputs": [],
   "source": [
    "import numpy as np\n",
    "import pandas as pd\n",
    "from sklearn.model_selection import train_test_split\n",
    "from sklearn.metrics import accuracy_score\n",
    "from sklearn.metrics import f1_score\n",
    "from sklearn import tree\n",
    "from scipy.stats import iqr\n",
    "from scipy.stats import skew\n",
    "from scipy.stats import kurtosis\n",
    "from sklearn.model_selection import GridSearchCV"
   ]
  },
  {
   "cell_type": "code",
   "execution_count": 2,
   "metadata": {},
   "outputs": [],
   "source": [
    "from sklearn.tree import DecisionTreeClassifier\n",
    "from sklearn.ensemble import RandomForestClassifier\n",
    "from sklearn.svm import SVC\n",
    "from sklearn.neighbors import KNeighborsClassifier\n",
    "from sklearn.naive_bayes import GaussianNB\n",
    "from sklearn.linear_model import LogisticRegression\n",
    "from sklearn.linear_model import RidgeClassifier\n",
    "from sklearn.ensemble import VotingClassifier\n",
    "\n",
    "import warnings\n",
    "warnings.filterwarnings('ignore')"
   ]
  },
  {
   "cell_type": "code",
   "execution_count": 16,
   "metadata": {},
   "outputs": [],
   "source": [
    "from ipynb.fs.defs.BOS_Wrapper import BOS_Classifier\n",
    "from ipynb.fs.defs.Optimized_Classifiers import optimized_rf"
   ]
  },
  {
   "cell_type": "code",
   "execution_count": 95,
   "metadata": {},
   "outputs": [],
   "source": [
    "def readDataset(name):\n",
    "\n",
    "    X = {'metadata': [], 'statistics' : [], 'timeseries' : [], 'class' : []}\n",
    "\n",
    "    path = \"\"\n",
    "\n",
    "    # calcoliamo le features di ogni timeseries\n",
    "\n",
    "    with open(path + name, 'r', encoding='utf-8') as dati:\n",
    "        for row in dati:\n",
    "            riga = row.strip().split(',')\n",
    "        \n",
    "            classe = int(riga[8])\n",
    "            X['class'].append(classe)\n",
    "        \n",
    "            valori = np.array(riga[9:]).astype(np.float)\n",
    "            X['timeseries'].append(valori)\n",
    "        \n",
    "            # metadati\n",
    "            stream_name = riga[1]\n",
    "            X['metadata'].append(stream_name)\n",
    "        \n",
    "            # statistiche\n",
    "            valori = np.array(riga[9:]).astype(np.float)\n",
    "            media = np.mean(valori)\n",
    "            mediana = np.median(valori)\n",
    "            maxim = np.max(valori)\n",
    "            minim = np.min(valori)\n",
    "            std_dev = np.std(valori)\n",
    "            rms = np.sqrt(np.mean(np.square(valori)))\n",
    "            quantile = np.quantile(valori, 0.4)\n",
    "            i_q_r = iqr(valori)\n",
    "            simmetria = skew(valori)\n",
    "            curtosi = kurtosis(valori)\n",
    "            rang = maxim - minim\n",
    "        \n",
    "            features = [rang, maxim, std_dev, rms, media, minim, quantile, mediana, curtosi, simmetria, i_q_r] \n",
    "            X['statistics'].append(features)\n",
    "    \n",
    "    X = pd.DataFrame(X)\n",
    "    X = np.array(X)\n",
    "    \n",
    "    return X"
   ]
  },
  {
   "cell_type": "code",
   "execution_count": 96,
   "metadata": {},
   "outputs": [],
   "source": [
    "def create_splits(X):\n",
    "    np.random.shuffle(X)\n",
    "    splits = np.array_split(X, 10)\n",
    "\n",
    "    testing_set = pd.DataFrame(splits[0], columns = ['metadata', 'statistics', 'timeseries', 'class'])\n",
    "    training_sets = []\n",
    "    training_sets.append(splits[1])\n",
    "\n",
    "    for i in range(1, 9):\n",
    "        training_sets.append(pd.DataFrame(np.concatenate((training_sets[i-1], splits[i+1])), columns = ['metadata', 'statistics', 'timeseries', 'class']))\n",
    "\n",
    "    training_sets[0] = pd.DataFrame(splits[1], columns = ['metadata', 'statistics', 'timeseries', 'class'])\n",
    "    \n",
    "    return training_sets, testing_set"
   ]
  },
  {
   "cell_type": "code",
   "execution_count": 104,
   "metadata": {},
   "outputs": [],
   "source": [
    "def compute_accuracy_rf(training_sets, testing_set, acc):\n",
    "\n",
    "    for i in range(0, 9):\n",
    "        forest = BOS_Classifier(eval('RandomForestClassifier(100)'))\n",
    "        y_train = np.array(training_sets[i]['class'])\n",
    "        y_train = y_train.astype('int')\n",
    "        forest.fit(training_sets[i], y_train)\n",
    "        y_pred = forest.predict(testing_set)\n",
    "        y_test = np.array(testing_set['class'])\n",
    "        y_test = y_test.astype('int')\n",
    "        acc[i].append(accuracy_score(y_pred, y_test)*100)\n",
    "        \n",
    "    return acc"
   ]
  },
  {
   "cell_type": "code",
   "execution_count": 105,
   "metadata": {},
   "outputs": [],
   "source": [
    "X = readDataset('ThingspeakEU.meta.csv')\n",
    "acc_things = [[], [], [], [], [], [], [], [], []]\n",
    "for j in range(0, 20):\n",
    "    train_sets, test_set = create_splits(X)\n",
    "    compute_accuracy_rf(train_sets, test_set, acc_things)\n",
    "for j in range(0, 9):\n",
    "    acc_things[j] = np.mean(acc_things[j])"
   ]
  },
  {
   "cell_type": "code",
   "execution_count": 106,
   "metadata": {},
   "outputs": [],
   "source": [
    "X = readDataset('UrbanObservatory.meta.csv')\n",
    "acc_urban = [[], [], [], [], [], [], [], [], []]\n",
    "for j in range(0, 20):\n",
    "    train_sets, test_set = create_splits(X)\n",
    "    compute_accuracy_rf(train_sets, test_set, acc_urban)\n",
    "for j in range(0, 9):\n",
    "    acc_urban[j] = np.mean(acc_urban[j])"
   ]
  },
  {
   "cell_type": "code",
   "execution_count": 107,
   "metadata": {},
   "outputs": [],
   "source": [
    "X = readDataset('Swissex.meta.csv')\n",
    "acc_swissex = [[], [], [], [], [], [], [], [], []]\n",
    "for j in range(0, 20):\n",
    "    train_sets, test_set = create_splits(X)\n",
    "    compute_accuracy_rf(train_sets, test_set, acc_swissex)\n",
    "for j in range(0, 9):\n",
    "    acc_swissex[j] = np.mean(acc_swissex[j])"
   ]
  },
  {
   "cell_type": "code",
   "execution_count": 24,
   "metadata": {},
   "outputs": [],
   "source": [
    "import matplotlib.pyplot as plt"
   ]
  },
  {
   "cell_type": "code",
   "execution_count": 57,
   "metadata": {},
   "outputs": [],
   "source": [
    "labels = ['10%', '20%', '30%', '40%', '50%', '60%', '70%', '80%', '90%']"
   ]
  },
  {
   "cell_type": "code",
   "execution_count": 113,
   "metadata": {},
   "outputs": [
    {
     "data": {
      "text/plain": [
       "<matplotlib.legend.Legend at 0x244195f99e8>"
      ]
     },
     "execution_count": 113,
     "metadata": {},
     "output_type": "execute_result"
    },
    {
     "data": {
      "image/png": "[encoded data removed]",
      "text/plain": [
       "<Figure size 432x288 with 1 Axes>"
      ]
     },
     "metadata": {
      "needs_background": "light"
     },
     "output_type": "display_data"
    }
   ],
   "source": [
    "plt.plot(labels, acc_things, label='Thingspeak')\n",
    "plt.plot(labels, acc_urban, label='UrbanObservatory')\n",
    "plt.plot(labels, acc_swissex, label='Swissex')\n",
    "plt.axis([-0.4, 8.4, 50, 100])\n",
    "plt.title('Accuracy with Random Forest and different training set sizes')\n",
    "plt.xlabel('Training Set Size')\n",
    "plt.ylabel('Accuracy')\n",
    "plt.legend()"
   ]
  },
  {
   "cell_type": "code",
   "execution_count": 109,
   "metadata": {},
   "outputs": [
    {
     "data": {
      "text/plain": [
       "[68.28638497652581,\n",
       " 70.962441314554,\n",
       " 71.45539906103286,\n",
       " 72.08920187793427,\n",
       " 72.69953051643192,\n",
       " 73.21596244131456,\n",
       " 74.06103286384976,\n",
       " 74.08450704225352,\n",
       " 74.74178403755869]"
      ]
     },
     "execution_count": 109,
     "metadata": {},
     "output_type": "execute_result"
    }
   ],
   "source": [
    "acc_things"
   ]
  },
  {
   "cell_type": "code",
   "execution_count": 110,
   "metadata": {},
   "outputs": [
    {
     "data": {
      "text/plain": [
       "[58.71428571428571,\n",
       " 69.85714285714286,\n",
       " 71.71428571428571,\n",
       " 73.85714285714286,\n",
       " 74.57142857142858,\n",
       " 76.14285714285714,\n",
       " 76.85714285714286,\n",
       " 78.14285714285714,\n",
       " 80.14285714285714]"
      ]
     },
     "execution_count": 110,
     "metadata": {},
     "output_type": "execute_result"
    }
   ],
   "source": [
    "acc_swissex"
   ]
  },
  {
   "cell_type": "code",
   "execution_count": 111,
   "metadata": {},
   "outputs": [
    {
     "data": {
      "text/plain": [
       "[79.76635514018692,\n",
       " 83.73831775700936,\n",
       " 85.5140186915888,\n",
       " 86.6822429906542,\n",
       " 87.85046728971962,\n",
       " 88.55140186915888,\n",
       " 88.5514018691589,\n",
       " 89.53271028037382,\n",
       " 89.53271028037383]"
      ]
     },
     "execution_count": 111,
     "metadata": {},
     "output_type": "execute_result"
    }
   ],
   "source": [
    "acc_urban"
   ]
  },
  {
   "cell_type": "code",
   "execution_count": null,
   "metadata": {},
   "outputs": [],
   "source": []
  }
 ],
 "metadata": {
  "kernelspec": {
   "display_name": "Python 3",
   "language": "python",
   "name": "python3"
  },
  "language_info": {
   "codemirror_mode": {
    "name": "ipython",
    "version": 3
   },
   "file_extension": ".py",
   "mimetype": "text/x-python",
   "name": "python",
   "nbconvert_exporter": "python",
   "pygments_lexer": "ipython3",
   "version": "3.7.3"
  }
 },
 "nbformat": 4,
 "nbformat_minor": 2
}
