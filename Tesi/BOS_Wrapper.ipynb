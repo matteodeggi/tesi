{
 "cells": [
  {
   "cell_type": "code",
   "execution_count": 2,
   "metadata": {},
   "outputs": [],
   "source": [
    "from sklearn.base import BaseEstimator"
   ]
  },
  {
   "cell_type": "code",
   "execution_count": 3,
   "metadata": {},
   "outputs": [],
   "source": [
    "class BOS_Classifier(BaseEstimator):\n",
    "    \n",
    "    def __init__(self, classifier):\n",
    "        self.classifier = classifier\n",
    "    \n",
    "    def fit(self, X_train, y_train):\n",
    "        \n",
    "        X_train = list(X_train['statistics'])\n",
    "        self.classifier.fit(X_train, y_train)\n",
    "            \n",
    "    def predict_proba(self, X_test):\n",
    "        \n",
    "        X_test = list(X_test['statistics'])\n",
    "        return self.classifier.predict_proba(X_test)\n",
    "    \n",
    "    def predict(self, X_test):\n",
    "        \n",
    "        X_test = list(X_test['statistics'])\n",
    "        return self.classifier.predict(X_test)"
   ]
  },
  {
   "cell_type": "code",
   "execution_count": null,
   "metadata": {},
   "outputs": [],
   "source": []
  }
 ],
 "metadata": {
  "kernelspec": {
   "display_name": "Python 3",
   "language": "python",
   "name": "python3"
  },
  "language_info": {
   "codemirror_mode": {
    "name": "ipython",
    "version": 3
   },
   "file_extension": ".py",
   "mimetype": "text/x-python",
   "name": "python",
   "nbconvert_exporter": "python",
   "pygments_lexer": "ipython3",
   "version": "3.7.3"
  }
 },
 "nbformat": 4,
 "nbformat_minor": 2
}
