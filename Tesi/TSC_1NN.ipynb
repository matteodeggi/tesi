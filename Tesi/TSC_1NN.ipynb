{
 "cells": [
  {
   "cell_type": "code",
   "execution_count": 1,
   "metadata": {},
   "outputs": [],
   "source": [
    "from sklearn.base import BaseEstimator\n",
    "from sklearn.neighbors import KNeighborsClassifier\n",
    "import numpy as np"
   ]
  },
  {
   "cell_type": "code",
   "execution_count": 2,
   "metadata": {},
   "outputs": [],
   "source": [
    "def DTWDistance(s1, s2, w = None):\n",
    "        rows = len(s1) + 1\n",
    "        cols = len(s2) + 1\n",
    "        DTW = np.zeros((rows, cols))\n",
    "\n",
    "        if w:\n",
    "            w = max(w, abs(len(s1)-len(s2)))\n",
    "\n",
    "            for i in range(0, rows):\n",
    "                for j in range(0, cols):\n",
    "                    DTW[i, j] = float('inf')\n",
    "\n",
    "            DTW[0, 0] = 0\n",
    "\n",
    "            for i in range(1, rows):\n",
    "                for j in range(max(1, i-w), min(cols, i+w+1)):\n",
    "                    DTW[i, j] = 0\n",
    "\n",
    "            distance = 0\n",
    "\n",
    "            for i in range(1, rows):\n",
    "                for j in range(max(1, i-w), min(cols, i+w+1)):\n",
    "                    distance = (s1[i-1] - s2[j-1]) ** 2\n",
    "                    DTW[i,j] = distance + min(DTW[i-1,j], DTW[i-1,j-1], DTW[i, j-1])\n",
    "        return DTW[len(s1), len(s2)]"
   ]
  },
  {
   "cell_type": "code",
   "execution_count": 3,
   "metadata": {},
   "outputs": [],
   "source": [
    "class TSC_1NN(BaseEstimator):\n",
    "    \n",
    "    def __init__(self, n, metric, metric_params = {'w': 10}):\n",
    "        if (metric == 'dtw'):\n",
    "            self.classifier = KNeighborsClassifier(n_neighbors = n, metric = DTWDistance, metric_params = metric_params)\n",
    "        elif (metric == 'euclidean'):\n",
    "            self.classifier = KNeighborsClassifier(n_neighbors = n, metric = 'euclidean')\n",
    "    \n",
    "    def fit(self, X_train, y_train):\n",
    "        self.classifier.fit(X_train, y_train)\n",
    "            \n",
    "    def predict_proba(self, X_test):\n",
    "        return self.classifier.predict_proba(X_test)\n",
    "    \n",
    "    def predict(self, X_test):\n",
    "        return self.classifier.predict(X_test)"
   ]
  }
 ],
 "metadata": {
  "kernelspec": {
   "display_name": "Python 3",
   "language": "python",
   "name": "python3"
  },
  "language_info": {
   "codemirror_mode": {
    "name": "ipython",
    "version": 3
   },
   "file_extension": ".py",
   "mimetype": "text/x-python",
   "name": "python",
   "nbconvert_exporter": "python",
   "pygments_lexer": "ipython3",
   "version": "3.7.3"
  }
 },
 "nbformat": 4,
 "nbformat_minor": 2
}
