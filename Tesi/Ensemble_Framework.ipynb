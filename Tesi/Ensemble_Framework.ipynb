{
 "cells": [
  {
   "cell_type": "code",
   "execution_count": 10,
   "metadata": {},
   "outputs": [],
   "source": [
    "import numpy as np\n",
    "import pandas as pd\n",
    "from sklearn.model_selection import train_test_split\n",
    "from sklearn.metrics import accuracy_score\n",
    "from sklearn.metrics import f1_score\n",
    "from sklearn import tree\n",
    "from scipy.stats import iqr\n",
    "from scipy.stats import skew\n",
    "from scipy.stats import kurtosis\n",
    "from sklearn.model_selection import GridSearchCV"
   ]
  },
  {
   "cell_type": "code",
   "execution_count": 11,
   "metadata": {},
   "outputs": [],
   "source": [
    "from sklearn.tree import DecisionTreeClassifier\n",
    "from sklearn.svm import SVC\n",
    "from sklearn.neighbors import KNeighborsClassifier\n",
    "from sklearn.naive_bayes import GaussianNB\n",
    "from sklearn.linear_model import LogisticRegression\n",
    "from sklearn.linear_model import RidgeClassifier"
   ]
  },
  {
   "cell_type": "code",
   "execution_count": 12,
   "metadata": {},
   "outputs": [],
   "source": [
    "from ipynb.fs.defs.BOS_Wrapper import BOS_Classifier\n",
    "from ipynb.fs.defs.NLP_Classifier import NLP_Classifier"
   ]
  },
  {
   "cell_type": "code",
   "execution_count": 13,
   "metadata": {},
   "outputs": [],
   "source": [
    "from heapq import nlargest"
   ]
  },
  {
   "cell_type": "code",
   "execution_count": 14,
   "metadata": {},
   "outputs": [],
   "source": [
    "class EnsembleFramework:\n",
    "    \n",
    "    def __init__(self, criterion = 'topk', layers = [{'type' : 'NLP'}, {'type' : 'BOS', 'name' : 'DecisionTreeClassifier()'}], params = {'k' : [4, 1]}):\n",
    "        self.criterion = criterion\n",
    "        self.layers = layers\n",
    "        self.params = params\n",
    "        \n",
    "    def run(self, X_train, y_train, X_test):\n",
    "        classes = [list(set(y_train))] * len(X_test)\n",
    "        self.classifiers = []\n",
    "        for classifier in self.layers:\n",
    "            if (classifier['type'] == 'BOS'):\n",
    "                clf = BOS_Classifier(eval(classifier['name']))\n",
    "            elif (classifier['type'] == 'NLP'):\n",
    "                clf = NLP_Classifier()\n",
    "            clf.fit(X_train, y_train)\n",
    "            self.classifiers.append(clf)\n",
    "            \n",
    "        if (self.criterion == 'topk'):\n",
    "            for clf, k in zip(self.classifiers, self.params['k']):\n",
    "                probs = clf.predict_proba(X_test)\n",
    "                for i, series_probs in enumerate(probs):\n",
    "                    classes[i] = nlargest(k, classes[i], key = lambda x : series_probs[x])\n",
    "        \n",
    "        return classes  \n",
    "    \n",
    "    def accuracy(self, y_pred, y_test):\n",
    "        classes = []\n",
    "        for pred in y_pred:\n",
    "            classes.append(*pred)\n",
    "            \n",
    "        return accuracy_score(classes, y_test)*100"
   ]
  },
  {
   "cell_type": "code",
   "execution_count": 15,
   "metadata": {},
   "outputs": [],
   "source": [
    "y = []\n",
    "X = {'metadata': [], 'statistics' : []}\n",
    "X_Super = []\n",
    "\n",
    "path = \"\"\n",
    "\n",
    "# calcoliamo le features di ogni timeseries\n",
    "\n",
    "with open(path + 'ThingspeakEU.meta.csv', 'r', encoding='utf-8') as dati:\n",
    "    for row in dati:\n",
    "        riga = row.strip().split(',')\n",
    "        \n",
    "        classe = int(riga[8])\n",
    "        y.append(classe)\n",
    "        \n",
    "        # metadati\n",
    "        stream_name = riga[1]\n",
    "        X['metadata'].append(stream_name)\n",
    "        \n",
    "        # statistiche\n",
    "        valori = np.array(riga[9:]).astype(np.float)\n",
    "        media = np.mean(valori)\n",
    "        mediana = np.median(valori)\n",
    "        maxim = np.max(valori)\n",
    "        minim = np.min(valori)\n",
    "        std_dev = np.std(valori)\n",
    "        rms = np.sqrt(np.mean(np.square(valori)))\n",
    "        quantile = np.quantile(valori, 0.4)\n",
    "        i_q_r = iqr(valori)\n",
    "        simmetria = skew(valori)\n",
    "        curtosi = kurtosis(valori)\n",
    "        rang = maxim - minim\n",
    "        \n",
    "        X_Super.append([stream_name, rang, maxim, std_dev, rms, media, minim, quantile, mediana, curtosi, simmetria, i_q_r])\n",
    "        features = [rang, maxim, std_dev, rms, media, minim, quantile, mediana, curtosi, simmetria, i_q_r] \n",
    "        X['statistics'].append(features)\n",
    "\n",
    "X = pd.DataFrame(X)\n",
    "X_train, X_test, y_train, y_test = train_test_split(X_Super, y, test_size = 0.3, random_state = 100)"
   ]
  },
  {
   "cell_type": "code",
   "execution_count": 13,
   "metadata": {},
   "outputs": [],
   "source": [
    "clf = EnsembleFramework()\n",
    "y_pred = clf.run(X_train, y_train, X_test)"
   ]
  },
  {
   "cell_type": "code",
   "execution_count": 14,
   "metadata": {},
   "outputs": [
    {
     "data": {
      "text/plain": [
       "79.43485086342228"
      ]
     },
     "execution_count": 14,
     "metadata": {},
     "output_type": "execute_result"
    }
   ],
   "source": [
    "clf.accuracy(y_pred, y_test)"
   ]
  }
 ],
 "metadata": {
  "kernelspec": {
   "display_name": "Python 3",
   "language": "python",
   "name": "python3"
  },
  "language_info": {
   "codemirror_mode": {
    "name": "ipython",
    "version": 3
   },
   "file_extension": ".py",
   "mimetype": "text/x-python",
   "name": "python",
   "nbconvert_exporter": "python",
   "pygments_lexer": "ipython3",
   "version": "3.7.3"
  }
 },
 "nbformat": 4,
 "nbformat_minor": 2
}
