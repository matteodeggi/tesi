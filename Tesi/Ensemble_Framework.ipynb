{
 "cells": [
  {
   "cell_type": "code",
   "execution_count": 17,
   "metadata": {},
   "outputs": [],
   "source": [
    "import numpy as np\n",
    "import pandas as pd\n",
    "from sklearn.model_selection import train_test_split\n",
    "from sklearn.metrics import accuracy_score\n",
    "from sklearn.metrics import f1_score\n",
    "from sklearn import tree\n",
    "from scipy.stats import iqr\n",
    "from scipy.stats import skew\n",
    "from scipy.stats import kurtosis\n",
    "from sklearn.model_selection import GridSearchCV"
   ]
  },
  {
   "cell_type": "code",
   "execution_count": 18,
   "metadata": {},
   "outputs": [],
   "source": [
    "from sklearn.tree import DecisionTreeClassifier\n",
    "from sklearn.svm import SVC\n",
    "from sklearn.neighbors import KNeighborsClassifier\n",
    "from sklearn.naive_bayes import GaussianNB\n",
    "from sklearn.linear_model import LogisticRegression\n",
    "from sklearn.linear_model import RidgeClassifier\n",
    "from sklearn.ensemble import RandomForestClassifier"
   ]
  },
  {
   "cell_type": "code",
   "execution_count": 19,
   "metadata": {},
   "outputs": [],
   "source": [
    "from ipynb.fs.defs.BOS_Wrapper import BOS_Classifier\n",
    "from ipynb.fs.defs.NLP_Classifier import NLP_Classifier\n",
    "from ipynb.fs.defs.TSC_1NN import TSC_1NN, DTWDistance\n",
    "from ipynb.fs.defs.TSC_Wrapper import TSC_Classifier"
   ]
  },
  {
   "cell_type": "code",
   "execution_count": 20,
   "metadata": {},
   "outputs": [],
   "source": [
    "from heapq import nlargest"
   ]
  },
  {
   "cell_type": "code",
   "execution_count": 21,
   "metadata": {},
   "outputs": [],
   "source": [
    "class EnsembleFramework:\n",
    "    \n",
    "    def __init__(self, criterion = 'topk', layers = [{'type' : 'NLP'}, {'type' : 'BOS', 'name' : 'DecisionTreeClassifier()'}], params = {'k' : [4, 1]}):\n",
    "        self.criterion = criterion\n",
    "        self.layers = layers\n",
    "        self.params = params\n",
    "        \n",
    "    def survival(self, probs, classes):\n",
    "        survived = []\n",
    "        survived_probs = []\n",
    "\n",
    "        for c in classes:\n",
    "            survived_probs.append(probs[c])\n",
    "\n",
    "        media = np.mean(survived_probs)\n",
    "        std_dev = np.std(survived_probs)\n",
    "\n",
    "        for c in classes:\n",
    "            if (probs[c] >= (media + std_dev)):\n",
    "                survived.append(c)\n",
    "        \n",
    "        if (len(survived) == 0):\n",
    "            survived = nlargest(1, classes, key = lambda x : probs[x])\n",
    "            \n",
    "        return survived\n",
    "        \n",
    "    def run(self, X_train, y_train, X_test):\n",
    "        classes = [list(set(y_train))] * len(X_test)\n",
    "        self.classifiers = []\n",
    "        for classifier in self.layers:\n",
    "            if (classifier['type'] == 'BOS'):\n",
    "                clf = BOS_Classifier(eval(classifier['name']))\n",
    "            elif (classifier['type'] == 'NLP'):\n",
    "                clf = NLP_Classifier()\n",
    "            elif (classifier['type'] == 'TSC'):\n",
    "                clf = TSC_Classifier(eval(classifier['name']))\n",
    "            clf.fit(X_train, y_train)\n",
    "            self.classifiers.append(clf)\n",
    "            \n",
    "        if (self.criterion == 'topk'):\n",
    "            for clf, k in zip(self.classifiers, self.params['k']):\n",
    "                probs = clf.predict_proba(X_test)\n",
    "                for i, series_probs in enumerate(probs):\n",
    "                    classes[i] = nlargest(k, classes[i], key = lambda x : series_probs[x])\n",
    "                    \n",
    "        elif (self.criterion == 'sof'):\n",
    "            for j, clf in enumerate(self.classifiers):\n",
    "                probs = clf.predict_proba(X_test)\n",
    "                for i, series_probs in enumerate(probs):\n",
    "                    classes[i] = self.survival(series_probs, classes[i])\n",
    "                    if (len(classes[i]) == 0):\n",
    "                        print('Lunghezza 0')\n",
    "                    if (j == (len(self.classifiers)-1)):\n",
    "                        classes[i] = nlargest(1, classes[i], key = lambda x : series_probs[x])\n",
    "                \n",
    "        return classes  \n",
    "    \n",
    "    def accuracy(self, y_pred, y_test):\n",
    "        classes = []\n",
    "        for pred in y_pred:\n",
    "            classes.append(*pred)\n",
    "            \n",
    "        return accuracy_score(classes, y_test)*100"
   ]
  },
  {
   "cell_type": "code",
   "execution_count": 37,
   "metadata": {},
   "outputs": [],
   "source": [
    "y = []\n",
    "X = {'metadata': [], 'statistics' : [], 'timeseries' : []}\n",
    "\n",
    "path = \"\"\n",
    "\n",
    "# calcoliamo le features di ogni timeseries\n",
    "\n",
    "with open(path + 'ThingspeakEU.meta.csv', 'r', encoding='utf-8') as dati:\n",
    "    for row in dati:\n",
    "        riga = row.strip().split(',')\n",
    "        \n",
    "        classe = int(riga[8])\n",
    "        y.append(classe)\n",
    "        \n",
    "        valori = np.array(riga[9:]).astype(np.float)\n",
    "        X['timeseries'].append(valori)\n",
    "        \n",
    "        # metadati\n",
    "        stream_name = riga[1]\n",
    "        X['metadata'].append(stream_name)\n",
    "        \n",
    "        # statistiche\n",
    "        valori = np.array(riga[9:]).astype(np.float)\n",
    "        media = np.mean(valori)\n",
    "        mediana = np.median(valori)\n",
    "        maxim = np.max(valori)\n",
    "        minim = np.min(valori)\n",
    "        std_dev = np.std(valori)\n",
    "        rms = np.sqrt(np.mean(np.square(valori)))\n",
    "        quantile = np.quantile(valori, 0.4)\n",
    "        i_q_r = iqr(valori)\n",
    "        simmetria = skew(valori)\n",
    "        curtosi = kurtosis(valori)\n",
    "        rang = maxim - minim\n",
    "        \n",
    "        features = [rang, maxim, std_dev, rms, media, minim, quantile, mediana, curtosi, simmetria, i_q_r] \n",
    "        X['statistics'].append(features)\n",
    "\n",
    "X = pd.DataFrame(X)\n",
    "X_train, X_test, y_train, y_test = train_test_split(X, y, test_size = 0.3, random_state = 100)"
   ]
  },
  {
   "cell_type": "code",
   "execution_count": 38,
   "metadata": {},
   "outputs": [],
   "source": [
    "clf = EnsembleFramework(criterion = 'sof', layers = [{'type' : 'NLP'},  {'type' : 'BOS', 'name' : 'RandomForestClassifier(100)'}])\n",
    "y_pred = clf.run(X_train, y_train, X_test)"
   ]
  },
  {
   "cell_type": "code",
   "execution_count": 39,
   "metadata": {},
   "outputs": [
    {
     "data": {
      "text/plain": [
       "85.24332810047096"
      ]
     },
     "execution_count": 39,
     "metadata": {},
     "output_type": "execute_result"
    }
   ],
   "source": [
    "clf.accuracy(y_pred, y_test)"
   ]
  },
  {
   "cell_type": "code",
   "execution_count": 41,
   "metadata": {},
   "outputs": [
    {
     "data": {
      "text/plain": [
       "0.8524332810047096"
      ]
     },
     "execution_count": 41,
     "metadata": {},
     "output_type": "execute_result"
    }
   ],
   "source": [
    "f1_score(y_pred, y_test, average = 'micro')"
   ]
  },
  {
   "cell_type": "code",
   "execution_count": null,
   "metadata": {},
   "outputs": [],
   "source": []
  },
  {
   "cell_type": "code",
   "execution_count": null,
   "metadata": {},
   "outputs": [],
   "source": []
  },
  {
   "cell_type": "code",
   "execution_count": 30,
   "metadata": {},
   "outputs": [],
   "source": [
    "nn = TSC_Classifier(eval('TSC_1NN(15, metric = \\'euclidean\\')'))"
   ]
  },
  {
   "cell_type": "code",
   "execution_count": 18,
   "metadata": {},
   "outputs": [
    {
     "ename": "NameError",
     "evalue": "name 'nn' is not defined",
     "output_type": "error",
     "traceback": [
      "\u001b[1;31m---------------------------------------------------------------------------\u001b[0m",
      "\u001b[1;31mNameError\u001b[0m                                 Traceback (most recent call last)",
      "\u001b[1;32m<ipython-input-18-2dcf1be5df27>\u001b[0m in \u001b[0;36m<module>\u001b[1;34m\u001b[0m\n\u001b[1;32m----> 1\u001b[1;33m \u001b[0mnn\u001b[0m\u001b[1;33m.\u001b[0m\u001b[0mfit\u001b[0m\u001b[1;33m(\u001b[0m\u001b[0mX_train\u001b[0m\u001b[1;33m,\u001b[0m \u001b[0my_train\u001b[0m\u001b[1;33m)\u001b[0m\u001b[1;33m\u001b[0m\u001b[1;33m\u001b[0m\u001b[0m\n\u001b[0m\u001b[0;32m      2\u001b[0m \u001b[0mnlargest\u001b[0m\u001b[1;33m(\u001b[0m\u001b[1;36m2\u001b[0m\u001b[1;33m,\u001b[0m \u001b[0mnn\u001b[0m\u001b[1;33m.\u001b[0m\u001b[0mpredict_proba\u001b[0m\u001b[1;33m(\u001b[0m\u001b[0mX_test\u001b[0m\u001b[1;33m)\u001b[0m\u001b[1;33m[\u001b[0m\u001b[1;36m85\u001b[0m\u001b[1;33m]\u001b[0m\u001b[1;33m)\u001b[0m\u001b[1;33m\u001b[0m\u001b[1;33m\u001b[0m\u001b[0m\n",
      "\u001b[1;31mNameError\u001b[0m: name 'nn' is not defined"
     ]
    }
   ],
   "source": [
    "nn.fit(X_train, y_train)\n",
    "nn.predict_proba(X_test)[85]"
   ]
  },
  {
   "cell_type": "code",
   "execution_count": 7,
   "metadata": {},
   "outputs": [],
   "source": [
    "kk = RandomForestClassifier(100)\n",
    "kk.fit(list(X_train['statistics']), y_train)\n",
    "probs = kk.predict_proba(list(X_test['statistics']))"
   ]
  },
  {
   "cell_type": "code",
   "execution_count": 29,
   "metadata": {},
   "outputs": [],
   "source": [
    "classes = [list(set(y_train))] * len(X_test)\n",
    "classes[0] = [0, 1, 2, 3, 4, 5, 6, 7, 8, 9, 10, 11, 12, 13, 14, 20]\n",
    "for i, series_probs in enumerate(probs):\n",
    "    classes[i] = survival(series_probs, classes[i])"
   ]
  },
  {
   "cell_type": "code",
   "execution_count": 30,
   "metadata": {},
   "outputs": [
    {
     "data": {
      "text/plain": [
       "[7, 20]"
      ]
     },
     "execution_count": 30,
     "metadata": {},
     "output_type": "execute_result"
    }
   ],
   "source": [
    "classes[0]"
   ]
  },
  {
   "cell_type": "code",
   "execution_count": 16,
   "metadata": {},
   "outputs": [
    {
     "data": {
      "text/plain": [
       "array([0.  , 0.  , 0.  , 0.  , 0.  , 0.  , 0.02, 0.24, 0.  , 0.  , 0.02,\n",
       "       0.  , 0.  , 0.  , 0.  , 0.04, 0.  , 0.  , 0.  , 0.  , 0.68])"
      ]
     },
     "execution_count": 16,
     "metadata": {},
     "output_type": "execute_result"
    }
   ],
   "source": [
    "probs[0]"
   ]
  },
  {
   "cell_type": "code",
   "execution_count": null,
   "metadata": {},
   "outputs": [],
   "source": []
  }
 ],
 "metadata": {
  "kernelspec": {
   "display_name": "Python 3",
   "language": "python",
   "name": "python3"
  },
  "language_info": {
   "codemirror_mode": {
    "name": "ipython",
    "version": 3
   },
   "file_extension": ".py",
   "mimetype": "text/x-python",
   "name": "python",
   "nbconvert_exporter": "python",
   "pygments_lexer": "ipython3",
   "version": "3.7.3"
  }
 },
 "nbformat": 4,
 "nbformat_minor": 2
}
