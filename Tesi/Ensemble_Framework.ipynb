{
 "cells": [
  {
   "cell_type": "code",
   "execution_count": 1,
   "metadata": {},
   "outputs": [],
   "source": [
    "import numpy as np\n",
    "import pandas as pd\n",
    "from sklearn.model_selection import train_test_split\n",
    "from sklearn.metrics import accuracy_score\n",
    "from sklearn.metrics import f1_score\n",
    "from sklearn import tree\n",
    "from scipy.stats import iqr\n",
    "from scipy.stats import skew\n",
    "from scipy.stats import kurtosis\n",
    "from sklearn.model_selection import GridSearchCV"
   ]
  },
  {
   "cell_type": "code",
   "execution_count": 2,
   "metadata": {},
   "outputs": [],
   "source": [
    "from sklearn.tree import DecisionTreeClassifier\n",
    "from sklearn.svm import SVC\n",
    "from sklearn.neighbors import KNeighborsClassifier\n",
    "from sklearn.naive_bayes import GaussianNB\n",
    "from sklearn.linear_model import LogisticRegression\n",
    "from sklearn.linear_model import RidgeClassifier"
   ]
  },
  {
   "cell_type": "code",
   "execution_count": null,
   "metadata": {},
   "outputs": [],
   "source": [
    "from heapq import nlargest"
   ]
  },
  {
   "cell_type": "code",
   "execution_count": 118,
   "metadata": {},
   "outputs": [],
   "source": [
    "class EnsembleFramework:\n",
    "    \n",
    "    def __init__(self, criterion = 'topk', layers = ['DecisionTreeClassifier()', 'KNeighborsClassifier()'], params = {'k' : [4, 1]}):\n",
    "        self.criterion = criterion\n",
    "        self.layers = layers\n",
    "        self.params = params\n",
    "        \n",
    "    def run(self, X_train, y_train, X_test):\n",
    "        classes = [list(set(y_train))] * len(X_test)\n",
    "        self.classifiers = []\n",
    "        for clf_name in self.layers:\n",
    "            clf = eval(clf_name)\n",
    "            clf.fit(X_train, y_train)\n",
    "            self.classifiers.append(clf)\n",
    "            \n",
    "        if (self.criterion == 'topk'):\n",
    "            for clf, k in zip(self.classifiers, self.params['k']):\n",
    "                probs = clf.predict_proba(X_test)\n",
    "                for i, series_probs, in enumerate(probs):\n",
    "                    classes[i] = nlargest(k, classes[i], key = lambda x : series_probs[x])\n",
    "        \n",
    "        return classes  \n",
    "    \n",
    "    def accuracy(self, y_pred, y_test):\n",
    "        classes = []\n",
    "        for pred in y_pred:\n",
    "            classes.append(*pred)\n",
    "            \n",
    "        return accuracy_score(classes, y_test)*100"
   ]
  },
  {
   "cell_type": "code",
   "execution_count": 120,
   "metadata": {},
   "outputs": [],
   "source": [
    "valori_features = []\n",
    "classi = []\n",
    "\n",
    "path = \"RelazioneTirocinio/\"\n",
    "\n",
    "# calcoliamo le features di ogni timeseries\n",
    "\n",
    "with open(path + 'Swissex.meta.csv', 'r', encoding='utf-8') as dati:\n",
    "    for row in dati:\n",
    "        riga = row.strip().split(',')\n",
    "        classe = int(riga[8])\n",
    "        classi.append(classe)\n",
    "        valori = np.array(riga[9:]).astype(np.float)\n",
    "        media = np.mean(valori)\n",
    "        mediana = np.median(valori)\n",
    "        maxim = np.max(valori)\n",
    "        minim = np.min(valori)\n",
    "        std_dev = np.std(valori)\n",
    "        rms = np.sqrt(np.mean(np.square(valori)))\n",
    "        quantile = np.quantile(valori, 0.4)\n",
    "        i_q_r = iqr(valori)\n",
    "        simmetria = skew(valori)\n",
    "        curtosi = kurtosis(valori)\n",
    "        rang = maxim - minim\n",
    "        features = [rang, maxim, std_dev, rms, media, minim, quantile, mediana, curtosi, simmetria, i_q_r] \n",
    "        valori_features.append(features)"
   ]
  },
  {
   "cell_type": "code",
   "execution_count": null,
   "metadata": {},
   "outputs": [],
   "source": [
    "X_train, X_test, y_train, y_test = train_test_split(valori_features, classi, test_size = 0.3, random_state = 100)"
   ]
  },
  {
   "cell_type": "code",
   "execution_count": 121,
   "metadata": {},
   "outputs": [
    {
     "name": "stdout",
     "output_type": "stream",
     "text": [
      "[[4], [1], [9], [7], [3], [10], [7], [2], [4], [1], [10], [10], [7], [10], [8], [5], [7], [2], [1], [7], [7], [10], [5], [1], [2], [5], [7], [10], [9], [0], [7], [9], [7], [7], [1], [10], [2], [10], [7], [10], [7], [9], [2], [6], [10], [1], [3], [6], [1], [1], [1], [2], [8], [1], [9], [7], [9], [9], [7], [1], [7], [9], [9], [1], [9], [1], [7], [0], [3], [4], [7], [8], [7], [7], [7], [7], [1], [10], [4], [5], [7], [0], [10], [10], [7], [7], [10], [7], [9], [10], [1], [0], [6], [10], [7], [9], [2], [7], [7], [0], [3], [8], [8], [10]]\n"
     ]
    }
   ],
   "source": [
    "clf = EnsembleFramework(layers = ['DecisionTreeClassifier()', 'KNeighborsClassifier()', 'GaussianNB()'], params = {'k' : [5, 3, 1]})\n",
    "y_pred = clf.run(np.array(X_train), np.array(y_train), np.array(X_test))\n",
    "print(y_pred)"
   ]
  },
  {
   "cell_type": "code",
   "execution_count": 122,
   "metadata": {},
   "outputs": [
    {
     "data": {
      "text/plain": [
       "68.26923076923077"
      ]
     },
     "execution_count": 122,
     "metadata": {},
     "output_type": "execute_result"
    }
   ],
   "source": [
    "clf.accuracy(y_pred, y_test)"
   ]
  },
  {
   "cell_type": "code",
   "execution_count": null,
   "metadata": {},
   "outputs": [],
   "source": []
  }
 ],
 "metadata": {
  "kernelspec": {
   "display_name": "Python 3",
   "language": "python",
   "name": "python3"
  },
  "language_info": {
   "codemirror_mode": {
    "name": "ipython",
    "version": 3
   },
   "file_extension": ".py",
   "mimetype": "text/x-python",
   "name": "python",
   "nbconvert_exporter": "python",
   "pygments_lexer": "ipython3",
   "version": "3.7.3"
  }
 },
 "nbformat": 4,
 "nbformat_minor": 2
}
