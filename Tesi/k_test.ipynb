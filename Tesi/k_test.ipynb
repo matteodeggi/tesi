{
 "cells": [
  {
   "cell_type": "code",
   "execution_count": 1,
   "metadata": {},
   "outputs": [],
   "source": [
    "import numpy as np\n",
    "import pandas as pd\n",
    "from sklearn.model_selection import train_test_split\n",
    "from sklearn.metrics import accuracy_score\n",
    "from heapq import nlargest\n",
    "from sklearn.metrics import f1_score\n",
    "from sklearn import tree\n",
    "from scipy.stats import iqr\n",
    "from scipy.stats import skew\n",
    "from scipy.stats import kurtosis\n",
    "from sklearn.model_selection import GridSearchCV"
   ]
  },
  {
   "cell_type": "code",
   "execution_count": 8,
   "metadata": {},
   "outputs": [],
   "source": [
    "from sklearn.tree import DecisionTreeClassifier\n",
    "from sklearn.ensemble import RandomForestClassifier\n",
    "from sklearn.svm import SVC\n",
    "from sklearn.neighbors import KNeighborsClassifier\n",
    "from sklearn.naive_bayes import GaussianNB\n",
    "from sklearn.ensemble import GradientBoostingClassifier\n",
    "from sklearn.linear_model import LogisticRegression\n",
    "from sklearn.linear_model import RidgeClassifier\n",
    "from sklearn.ensemble import VotingClassifier\n",
    "\n",
    "import warnings\n",
    "warnings.filterwarnings('ignore')"
   ]
  },
  {
   "cell_type": "code",
   "execution_count": 3,
   "metadata": {},
   "outputs": [],
   "source": [
    "from ipynb.fs.defs.BOS_Wrapper import BOS_Classifier\n",
    "from ipynb.fs.defs.NLP_Classifier import NLP_Classifier\n",
    "from ipynb.fs.defs.Optimized_Classifiers import optimized_rf, optimized_tree, optimized_svm, optimized_knn, optimized_grad, optimized_logistic, optimized_ridge, optimized_nb"
   ]
  },
  {
   "cell_type": "code",
   "execution_count": 4,
   "metadata": {},
   "outputs": [],
   "source": [
    "y = []\n",
    "X = {'metadata': [], 'statistics' : [], 'timeseries' : []}\n",
    "\n",
    "path = \"\"\n",
    "\n",
    "# calcoliamo le features di ogni timeseries\n",
    "\n",
    "with open(path + 'ThingspeakEU.meta.csv', 'r', encoding='utf-8') as dati:\n",
    "    for row in dati:\n",
    "        riga = row.strip().split(',')\n",
    "        \n",
    "        classe = int(riga[8])\n",
    "        y.append(classe)\n",
    "        \n",
    "        valori = np.array(riga[9:]).astype(np.float)\n",
    "        X['timeseries'].append(valori)\n",
    "        \n",
    "        # metadati\n",
    "        stream_name = riga[1]\n",
    "        X['metadata'].append(stream_name)\n",
    "        \n",
    "        # statistiche\n",
    "        valori = np.array(riga[9:]).astype(np.float)\n",
    "        media = np.mean(valori)\n",
    "        mediana = np.median(valori)\n",
    "        maxim = np.max(valori)\n",
    "        minim = np.min(valori)\n",
    "        std_dev = np.std(valori)\n",
    "        rms = np.sqrt(np.mean(np.square(valori)))\n",
    "        quantile = np.quantile(valori, 0.4)\n",
    "        i_q_r = iqr(valori)\n",
    "        simmetria = skew(valori)\n",
    "        curtosi = kurtosis(valori)\n",
    "        rang = maxim - minim\n",
    "        \n",
    "        features = [rang, maxim, std_dev, rms, media, minim, quantile, mediana, curtosi, simmetria, i_q_r] \n",
    "        X['statistics'].append(features)\n",
    "    \n",
    "X = pd.DataFrame(X)\n",
    "X_train, X_test, y_train, y_test = train_test_split(X, y, test_size = 0.3, random_state = 100)"
   ]
  },
  {
   "cell_type": "code",
   "execution_count": 23,
   "metadata": {},
   "outputs": [],
   "source": [
    "rf = BOS_Classifier(eval(optimized_rf('ThingspeakEU.meta.csv')))\n",
    "rf.fit(X_train, y_train)\n",
    "y_pred = rf.predict_proba(X_test)\n",
    "acc_rf = accuracy(y_pred, y_test)\n",
    "\n",
    "rf = BOS_Classifier(eval(optimized_tree('ThingspeakEU.meta.csv')))\n",
    "rf.fit(X_train, y_train)\n",
    "y_pred = rf.predict_proba(X_test)\n",
    "acc_tree = accuracy(y_pred, y_test)\n",
    "\n",
    "rf = BOS_Classifier(eval(optimized_knn('ThingspeakEU.meta.csv')))\n",
    "rf.fit(X_train, y_train)\n",
    "y_pred = rf.predict_proba(X_test)\n",
    "acc_knn = accuracy(y_pred, y_test)\n",
    "\n",
    "rf = BOS_Classifier(eval(optimized_svm('ThingspeakEU.meta.csv')))\n",
    "rf.fit(X_train, y_train)\n",
    "y_pred = rf.predict_proba(X_test)\n",
    "acc_svm = accuracy(y_pred, y_test)\n",
    "\n",
    "rf = BOS_Classifier(eval(optimized_logistic('ThingspeakEU.meta.csv')))\n",
    "rf.fit(X_train, y_train)\n",
    "y_pred = rf.predict_proba(X_test)\n",
    "acc_logistic = accuracy(y_pred, y_test)\n",
    "\n",
    "rf = BOS_Classifier(eval(optimized_grad('ThingspeakEU.meta.csv')))\n",
    "rf.fit(X_train, y_train)\n",
    "y_pred = rf.predict_proba(X_test)\n",
    "acc_grad = accuracy(y_pred, y_test)\n",
    "\n",
    "rf = BOS_Classifier(eval(optimized_nb('ThingspeakEU.meta.csv')))\n",
    "rf.fit(X_train, y_train)\n",
    "y_pred = rf.predict_proba(X_test)\n",
    "acc_nb = accuracy(y_pred, y_test)\n",
    "\n",
    "rf = NLP_Classifier()\n",
    "rf.fit(X_train, y_train)\n",
    "y_pred = rf.predict_proba(X_test)\n",
    "acc_nlp = accuracy(y_pred, y_test)"
   ]
  },
  {
   "cell_type": "code",
   "execution_count": 22,
   "metadata": {},
   "outputs": [],
   "source": [
    "def accuracy(y_pred, y_test):\n",
    "    \n",
    "    acc = []\n",
    "    tot = len(y_test)\n",
    "    \n",
    "    for i in range(1, 22):\n",
    "        match = 0\n",
    "        for pred, test in zip(y_pred, y_test):\n",
    "            classes = nlargest(i, set(y), key = lambda x : pred[x])\n",
    "            if (test in classes):\n",
    "                match = match + 1\n",
    "        acc.append((match/tot)*100)\n",
    "    \n",
    "    return acc"
   ]
  },
  {
   "cell_type": "code",
   "execution_count": 19,
   "metadata": {},
   "outputs": [],
   "source": [
    "import matplotlib.pyplot as plt"
   ]
  },
  {
   "cell_type": "code",
   "execution_count": 20,
   "metadata": {},
   "outputs": [],
   "source": [
    "labels = np.arange(1, 22)"
   ]
  },
  {
   "cell_type": "code",
   "execution_count": 36,
   "metadata": {},
   "outputs": [
    {
     "data": {
      "image/png": "[encoded data removed]",
      "text/plain": [
       "<Figure size 432x288 with 1 Axes>"
      ]
     },
     "metadata": {
      "needs_background": "light"
     },
     "output_type": "display_data"
    }
   ],
   "source": [
    "plt.plot(labels, acc_rf, label='RF')\n",
    "plt.plot(labels, acc_nlp, label='DDL-NLP')\n",
    "plt.plot(labels, acc_grad, label='GradBoost')\n",
    "plt.axis([0, 21, 65, 100])\n",
    "plt.title('Accuracy with varying sizes of k')\n",
    "plt.xlabel('k')\n",
    "plt.ylabel('Accuracy')\n",
    "plt.legend()\n",
    "plt.savefig('k_test.png', bbox_inches='tight',pad_inches = 0, dpi = 200)"
   ]
  },
  {
   "cell_type": "code",
   "execution_count": null,
   "metadata": {},
   "outputs": [],
   "source": []
  }
 ],
 "metadata": {
  "kernelspec": {
   "display_name": "Python 3",
   "language": "python",
   "name": "python3"
  },
  "language_info": {
   "codemirror_mode": {
    "name": "ipython",
    "version": 3
   },
   "file_extension": ".py",
   "mimetype": "text/x-python",
   "name": "python",
   "nbconvert_exporter": "python",
   "pygments_lexer": "ipython3",
   "version": "3.7.3"
  }
 },
 "nbformat": 4,
 "nbformat_minor": 2
}
